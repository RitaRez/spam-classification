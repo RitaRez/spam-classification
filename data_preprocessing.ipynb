{
 "cells": [
  {
   "cell_type": "markdown",
   "id": "7ae3a34e",
   "metadata": {},
   "source": [
    "# Data Preprocessing\n",
    "\n",
    "For this assignment, I used the [Spam Mails Dataset](https://www.kaggle.com/venky73/spam-mails-dataset) found on kaggle. To achieve better results, the data, which consists of several e-mails that were either considered legit or spam, was filtered through various process such as stopword, punctuation and noise removal, lowercasing, expanding contractions and stemming. "
   ]
  },
  {
   "cell_type": "code",
   "execution_count": 1,
   "id": "2b9b3f63",
   "metadata": {},
   "outputs": [
    {
     "name": "stderr",
     "output_type": "stream",
     "text": [
      "[nltk_data] Downloading package wordnet to\n",
      "[nltk_data]     C:\\Users\\ritar\\AppData\\Roaming\\nltk_data...\n",
      "[nltk_data]   Package wordnet is already up-to-date!\n",
      "[nltk_data] Downloading package averaged_perceptron_tagger to\n",
      "[nltk_data]     C:\\Users\\ritar\\AppData\\Roaming\\nltk_data...\n",
      "[nltk_data]   Package averaged_perceptron_tagger is already up-to-\n",
      "[nltk_data]       date!\n"
     ]
    }
   ],
   "source": [
    "import nltk, re, json\n",
    "import pandas as pd\n",
    "\n",
    "from IPython.core.display import display, HTML\n",
    "from gensim.parsing.preprocessing import remove_stopwords\n",
    "from string import punctuation\n",
    "from nltk.stem import WordNetLemmatizer\n",
    "from nltk.stem import SnowballStemmer\n",
    "from nltk import pos_tag\n",
    "from nltk.tokenize import word_tokenize\n",
    "\n",
    "nltk.download('wordnet')\n",
    "nltk.download('averaged_perceptron_tagger')\n",
    "snowball = SnowballStemmer(language='english')\n",
    "wnl = WordNetLemmatizer()"
   ]
  },
  {
   "cell_type": "markdown",
   "id": "768bae4c",
   "metadata": {},
   "source": [
    "### The used dataframe:"
   ]
  },
  {
   "cell_type": "code",
   "execution_count": 2,
   "id": "212afd72",
   "metadata": {},
   "outputs": [
    {
     "data": {
      "text/html": [
       "<div>\n",
       "<style scoped>\n",
       "    .dataframe tbody tr th:only-of-type {\n",
       "        vertical-align: middle;\n",
       "    }\n",
       "\n",
       "    .dataframe tbody tr th {\n",
       "        vertical-align: top;\n",
       "    }\n",
       "\n",
       "    .dataframe thead th {\n",
       "        text-align: right;\n",
       "    }\n",
       "</style>\n",
       "<table border=\"1\" class=\"dataframe\">\n",
       "  <thead>\n",
       "    <tr style=\"text-align: right;\">\n",
       "      <th></th>\n",
       "      <th>Unnamed: 0</th>\n",
       "      <th>label</th>\n",
       "      <th>text</th>\n",
       "      <th>label_num</th>\n",
       "    </tr>\n",
       "  </thead>\n",
       "  <tbody>\n",
       "    <tr>\n",
       "      <th>0</th>\n",
       "      <td>605</td>\n",
       "      <td>ham</td>\n",
       "      <td>Subject: enron methanol ; meter # : 988291\\r\\n...</td>\n",
       "      <td>0</td>\n",
       "    </tr>\n",
       "    <tr>\n",
       "      <th>1</th>\n",
       "      <td>2349</td>\n",
       "      <td>ham</td>\n",
       "      <td>Subject: hpl nom for january 9 , 2001\\r\\n( see...</td>\n",
       "      <td>0</td>\n",
       "    </tr>\n",
       "    <tr>\n",
       "      <th>2</th>\n",
       "      <td>3624</td>\n",
       "      <td>ham</td>\n",
       "      <td>Subject: neon retreat\\r\\nho ho ho , we ' re ar...</td>\n",
       "      <td>0</td>\n",
       "    </tr>\n",
       "    <tr>\n",
       "      <th>3</th>\n",
       "      <td>4685</td>\n",
       "      <td>spam</td>\n",
       "      <td>Subject: photoshop , windows , office . cheap ...</td>\n",
       "      <td>1</td>\n",
       "    </tr>\n",
       "    <tr>\n",
       "      <th>4</th>\n",
       "      <td>2030</td>\n",
       "      <td>ham</td>\n",
       "      <td>Subject: re : indian springs\\r\\nthis deal is t...</td>\n",
       "      <td>0</td>\n",
       "    </tr>\n",
       "  </tbody>\n",
       "</table>\n",
       "</div>"
      ],
      "text/plain": [
       "   Unnamed: 0 label                                               text  \\\n",
       "0         605   ham  Subject: enron methanol ; meter # : 988291\\r\\n...   \n",
       "1        2349   ham  Subject: hpl nom for january 9 , 2001\\r\\n( see...   \n",
       "2        3624   ham  Subject: neon retreat\\r\\nho ho ho , we ' re ar...   \n",
       "3        4685  spam  Subject: photoshop , windows , office . cheap ...   \n",
       "4        2030   ham  Subject: re : indian springs\\r\\nthis deal is t...   \n",
       "\n",
       "   label_num  \n",
       "0          0  \n",
       "1          0  \n",
       "2          0  \n",
       "3          1  \n",
       "4          0  "
      ]
     },
     "execution_count": 2,
     "metadata": {},
     "output_type": "execute_result"
    }
   ],
   "source": [
    "df = pd.read_csv(\"./data/spam_ham.csv\")\n",
    "df.head()"
   ]
  },
  {
   "cell_type": "markdown",
   "id": "c03a079b",
   "metadata": {},
   "source": [
    "### An exemple of a legit email:"
   ]
  },
  {
   "cell_type": "code",
   "execution_count": 3,
   "id": "9bccf86a",
   "metadata": {},
   "outputs": [
    {
     "data": {
      "text/html": [
       "Subject: neon retreat\r\n",
       "ho ho ho , we ' re around to that most wonderful time of the year - - - neon leaders retreat time !\r\n",
       "i know that this time of year is extremely hectic , and that it ' s tough to think about anything past the holidays , but life does go on past the week of december 25 through january 1 , and that ' s what i ' d like you to think about for a minute .\r\n",
       "on the calender that i handed out at the beginning of the fall semester , the retreat was scheduled for the weekend of january 5 - 6 . but because of a youth ministers conference that brad and dustin are connected with that week , we ' re going to change the date to the following weekend , january 12 - 13 . now comes the part you need to think about .\r\n",
       "i think we all agree that it ' s important for us to get together and have some time to recharge our batteries before we get to far into the spring semester , but it can be a lot of trouble and difficult for us to get away without kids , etc . so , brad came up with a potential alternative for how we can get together on that weekend , and then you can let me know which you prefer .\r\n",
       "the first option would be to have a retreat similar to what we ' ve done the past several years . this year we could go to the heartland country inn ( www . . com ) outside of brenham . it ' s a nice place , where we ' d have a 13 - bedroom and a 5 - bedroom house side by side . it ' s in the country , real relaxing , but also close to brenham and only about one hour and 15 minutes from here . we can golf , shop in the antique and craft stores in brenham , eat dinner together at the ranch , and spend time with each other . we ' d meet on saturday , and then return on sunday morning , just like what we ' ve done in the past .\r\n",
       "the second option would be to stay here in houston , have dinner together at a nice restaurant , and then have dessert and a time for visiting and recharging at one of our homes on that saturday evening . this might be easier , but the trade off would be that we wouldn ' t have as much time together . i ' ll let you decide .\r\n",
       "email me back with what would be your preference , and of course if you ' re available on that weekend . the democratic process will prevail - - majority vote will rule ! let me hear from you as soon as possible , preferably by the end of the weekend . and if the vote doesn ' t go your way , no complaining allowed ( like i tend to do ! )\r\n",
       "have a great weekend , great golf , great fishing , great shopping , or whatever makes you happy !\r\n",
       "bobby"
      ],
      "text/plain": [
       "<IPython.core.display.HTML object>"
      ]
     },
     "metadata": {},
     "output_type": "display_data"
    }
   ],
   "source": [
    "ham = df[df['label_num'] == 0]\n",
    "display(HTML(ham.iloc[2]['text']))"
   ]
  },
  {
   "cell_type": "markdown",
   "id": "e8c06bb2",
   "metadata": {},
   "source": [
    "### An exemple of spam:"
   ]
  },
  {
   "cell_type": "code",
   "execution_count": 4,
   "id": "f039377e",
   "metadata": {},
   "outputs": [
    {
     "data": {
      "text/html": [
       "Subject: looking for medication ? we ` re the best source .\r\n",
       "it is difficult to make our material condition better by the best law , but it is easy enough to ruin it by bad laws .\r\n",
       "excuse me . . . : ) you just found the\r\n",
       "best and simpliest site for\r\n",
       "medication on the net . no perscription , easy\r\n",
       "delivery .\r\n",
       "private , secure , and easy .\r\n",
       "better see rightly on a pound a week than squint on a million .\r\n",
       "we ` ve got\r\n",
       "anything that you will ever want .\r\n",
       "erection treatment pills , anti - depressant pills , weight loss , and\r\n",
       "more ! http : / / splicings . bombahakcx . com / 3 /\r\n",
       "knowledge and human power are synonymous .\r\n",
       "only high - quality stuff for low rates !\r\n",
       "100 % moneyback guarantee !\r\n",
       "there is no god , nature sufficeth unto herself in no wise hath she need of an author ."
      ],
      "text/plain": [
       "<IPython.core.display.HTML object>"
      ]
     },
     "metadata": {},
     "output_type": "display_data"
    }
   ],
   "source": [
    "spam = df[df['label_num'] == 1]\n",
    "display(HTML(spam.iloc[1]['text']))"
   ]
  },
  {
   "cell_type": "markdown",
   "id": "66127c76",
   "metadata": {},
   "source": [
    "## Pre Processing\n",
    "In order to be able to compare the processed data with the original one we'll make a copy!"
   ]
  },
  {
   "cell_type": "code",
   "execution_count": 5,
   "id": "33b22882",
   "metadata": {},
   "outputs": [],
   "source": [
    "cleaned_df = df.copy()"
   ]
  },
  {
   "cell_type": "markdown",
   "id": "77afef30",
   "metadata": {},
   "source": [
    "### Lowercasing\n",
    "\n",
    "All text will be lower case, so our models won't differ in identical words with different spelling."
   ]
  },
  {
   "cell_type": "code",
   "execution_count": 6,
   "id": "52cf83ba",
   "metadata": {},
   "outputs": [
    {
     "data": {
      "text/plain": [
       "\"subject: neon retreat\\r\\nho ho ho , we ' re around to that most wonderful time of the year - - - neon leaders retreat time !\\r\\ni know that this time of year is extremely hectic , and that it ' s tough to think about anything past the holidays , but life does go on past the week of december 25 through january 1 , and that ' s what i ' d like you to think about for a minute .\\r\\non the calender that i handed out at the beginning of the fall semester , the retreat was scheduled for the weekend of january 5 - 6 . but because of a youth ministers conference that brad and dustin are connected with that week , we ' re going to change the date to the following weekend , january 12 - 13 . now comes the part you need to think about .\\r\\ni think we all agree that it ' s important for us to get together and have some time to recharge our batteries before we get to far into the spring semester , but it can be a lot of trouble and difficult for us to get away without kids , etc . so , brad came up with a potential alternative for how we can get together on that weekend , and then you can let me know which you prefer .\\r\\nthe first option would be to have a retreat similar to what we ' ve done the past several years . this year we could go to the heartland country inn ( www . . com ) outside of brenham . it ' s a nice place , where we ' d have a 13 - bedroom and a 5 - bedroom house side by side . it ' s in the country , real relaxing , but also close to brenham and only about one hour and 15 minutes from here . we can golf , shop in the antique and craft stores in brenham , eat dinner together at the ranch , and spend time with each other . we ' d meet on saturday , and then return on sunday morning , just like what we ' ve done in the past .\\r\\nthe second option would be to stay here in houston , have dinner together at a nice restaurant , and then have dessert and a time for visiting and recharging at one of our homes on that saturday evening . this might be easier , but the trade off would be that we wouldn ' t have as much time together . i ' ll let you decide .\\r\\nemail me back with what would be your preference , and of course if you ' re available on that weekend . the democratic process will prevail - - majority vote will rule ! let me hear from you as soon as possible , preferably by the end of the weekend . and if the vote doesn ' t go your way , no complaining allowed ( like i tend to do ! )\\r\\nhave a great weekend , great golf , great fishing , great shopping , or whatever makes you happy !\\r\\nbobby\""
      ]
     },
     "execution_count": 6,
     "metadata": {},
     "output_type": "execute_result"
    }
   ],
   "source": [
    "cleaned_df['text'] = cleaned_df['text'].apply(lambda x:x.lower())\n",
    "cleaned_df['text'][2]"
   ]
  },
  {
   "cell_type": "markdown",
   "id": "622c84b2",
   "metadata": {},
   "source": [
    "### Expanding contractions\n",
    "To have a cleaner text we'll transform contractions (which are quite common in legit emails and spam) in full words. <br>\n",
    "*Example:* we'll -> we will"
   ]
  },
  {
   "cell_type": "code",
   "execution_count": 7,
   "id": "5969061a",
   "metadata": {},
   "outputs": [
    {
     "data": {
      "text/plain": [
       "\"subject: neon retreat\\r\\nho ho ho , we are around to that most wonderful time of the year - - - neon leaders retreat time !\\r\\ni know that this time of year is extremely hectic , and that it has / it is tough to think about anything past the holidays , but life does go on past the week of december 25 through january 1 , and that has / that is what i ' d like you to think about for a minute .\\r\\non the calender that i handed out at the beginning of the fall semester , the retreat was scheduled for the weekend of january 5 - 6 . but because of a youth ministers conference that brad and dustin are connected with that week , we are going to change the date to the following weekend , january 12 - 13 . now comes the part you need to think about .\\r\\ni think we all agree that it has / it is important for us to get together and have some time to recharge our batteries before we get to far into the spring semester , but it can be a lot of trouble and difficult for us to get away without kids , etc . so , brad came up with a potential alternative for how we can get together on that weekend , and then you can let me know which you prefer .\\r\\nthe first option would be to have a retreat similar to what we have done the past several years . this year we could go to the heartland country inn ( www . . com ) outside of brenham . it has / it is a nice place , where we had / we would have a 13 - bedroom and a 5 - bedroom house side by side . it has / it is in the country , real relaxing , but also close to brenham and only about one hour and 15 minutes from here . we can golf , shop in the antique and craft stores in brenham , eat dinner together at the ranch , and spend time with each other . we had / we would meet on saturday , and then return on sunday morning , just like what we have done in the past .\\r\\nthe second option would be to stay here in houston , have dinner together at a nice restaurant , and then have dessert and a time for visiting and recharging at one of our homes on that saturday evening . this might be easier , but the trade off would be that we would not have as much time together . i ' ll let you decide .\\r\\nemail me back with what would be your preference , and of course if you are available on that weekend . the democratic process will prevail - - majority vote will rule ! let me hear from you as soon as possible , preferably by the end of the weekend . and if the vote does not go your way , no complaining allowed ( like i tend to do ! )\\r\\nhave a great weekend , great golf , great fishing , great shopping , or whatever makes you happy !\\r\\nbobby\""
      ]
     },
     "execution_count": 7,
     "metadata": {},
     "output_type": "execute_result"
    }
   ],
   "source": [
    "from contractions import contractionsdict\n",
    "contractions_re=re.compile('(%s)' % '|'.join(contractionsdict.keys()))\n",
    "\n",
    "def expand_contractions(text,contractionsdict=contractionsdict):\n",
    "    def replace(match):\n",
    "        return contractionsdict[match.group(0)]\n",
    "    return contractions_re.sub(replace, text)\n",
    "\n",
    "cleaned_df['text'] = cleaned_df['text'].apply(lambda x:expand_contractions(x))\n",
    "cleaned_df['text'][2]"
   ]
  },
  {
   "cell_type": "markdown",
   "id": "91379be0",
   "metadata": {},
   "source": [
    "### Removing punctuation\n",
    "\n",
    "Punctuation will be useless, so we're better off without it!"
   ]
  },
  {
   "cell_type": "code",
   "execution_count": 8,
   "id": "ef3bc0bd",
   "metadata": {},
   "outputs": [
    {
     "data": {
      "text/plain": [
       "'subject neon retreat\\r\\nho ho ho  we are around to that most wonderful time of the year    neon leaders retreat time \\r\\ni know that this time of year is extremely hectic  and that it has  it is tough to think about anything past the holidays  but life does go on past the week of december 25 through january 1  and that has  that is what i  d like you to think about for a minute \\r\\non the calender that i handed out at the beginning of the fall semester  the retreat was scheduled for the weekend of january 5  6  but because of a youth ministers conference that brad and dustin are connected with that week  we are going to change the date to the following weekend  january 12  13  now comes the part you need to think about \\r\\ni think we all agree that it has  it is important for us to get together and have some time to recharge our batteries before we get to far into the spring semester  but it can be a lot of trouble and difficult for us to get away without kids  etc  so  brad came up with a potential alternative for how we can get together on that weekend  and then you can let me know which you prefer \\r\\nthe first option would be to have a retreat similar to what we have done the past several years  this year we could go to the heartland country inn  www   com  outside of brenham  it has  it is a nice place  where we had  we would have a 13  bedroom and a 5  bedroom house side by side  it has  it is in the country  real relaxing  but also close to brenham and only about one hour and 15 minutes from here  we can golf  shop in the antique and craft stores in brenham  eat dinner together at the ranch  and spend time with each other  we had  we would meet on saturday  and then return on sunday morning  just like what we have done in the past \\r\\nthe second option would be to stay here in houston  have dinner together at a nice restaurant  and then have dessert and a time for visiting and recharging at one of our homes on that saturday evening  this might be easier  but the trade off would be that we would not have as much time together  i  ll let you decide \\r\\nemail me back with what would be your preference  and of course if you are available on that weekend  the democratic process will prevail   majority vote will rule  let me hear from you as soon as possible  preferably by the end of the weekend  and if the vote does not go your way  no complaining allowed  like i tend to do  \\r\\nhave a great weekend  great golf  great fishing  great shopping  or whatever makes you happy \\r\\nbobby'"
      ]
     },
     "execution_count": 8,
     "metadata": {},
     "output_type": "execute_result"
    }
   ],
   "source": [
    "cleaned_df['text'] = cleaned_df['text'].apply(lambda x:x.translate(str.maketrans('', '', punctuation)))\n",
    "cleaned_df['text'][2]"
   ]
  },
  {
   "cell_type": "markdown",
   "id": "0ee66d7d",
   "metadata": {},
   "source": [
    "### Removing Stopwords\n",
    "Very common words will be filtered out, as they won't help in classifying whether they belong to spam or legitimate emails."
   ]
  },
  {
   "cell_type": "code",
   "execution_count": 9,
   "id": "69a32bf7",
   "metadata": {},
   "outputs": [
    {
     "data": {
      "text/plain": [
       "'subject neon retreat ho ho ho wonderful time year neon leaders retreat time know time year extremely hectic tough think past holidays life past week december 25 january 1 d like think minute calender handed beginning fall semester retreat scheduled weekend january 5 6 youth ministers conference brad dustin connected week going change date following weekend january 12 13 comes need think think agree important time recharge batteries far spring semester lot trouble difficult away kids brad came potential alternative weekend let know prefer option retreat similar past years year heartland country inn www com outside brenham nice place 13 bedroom 5 bedroom house country real relaxing close brenham hour 15 minutes golf shop antique craft stores brenham eat dinner ranch spend time meet saturday return sunday morning like past second option stay houston dinner nice restaurant dessert time visiting recharging homes saturday evening easier trade time ll let decide email preference course available weekend democratic process prevail majority vote rule let hear soon possible preferably end weekend vote way complaining allowed like tend great weekend great golf great fishing great shopping makes happy bobby'"
      ]
     },
     "execution_count": 9,
     "metadata": {},
     "output_type": "execute_result"
    }
   ],
   "source": [
    "cleaned_df['text'] = cleaned_df['text'].apply(lambda x:remove_stopwords(x))\n",
    "cleaned_df['text'][2]"
   ]
  },
  {
   "cell_type": "markdown",
   "id": "d08e4283",
   "metadata": {},
   "source": [
    "### Removing noise\n",
    "Numbers, non-ascii characters and HTML markups are also removed."
   ]
  },
  {
   "cell_type": "code",
   "execution_count": 10,
   "id": "818b6981",
   "metadata": {},
   "outputs": [
    {
     "data": {
      "text/plain": [
       "'subject neon retreat ho ho ho wonderful time year neon leaders retreat time know time year extremely hectic tough think past holidays life past week december january d like think minute calender handed beginning fall semester retreat scheduled weekend january youth ministers conference brad dustin connected week going change date following weekend january comes need think think agree important time recharge batteries far spring semester lot trouble difficult away kids brad came potential alternative weekend let know prefer option retreat similar past years year heartland country inn www com outside brenham nice place bedroom bedroom house country real relaxing close brenham hour minutes golf shop antique craft stores brenham eat dinner ranch spend time meet saturday return sunday morning like past second option stay houston dinner nice restaurant dessert time visiting recharging homes saturday evening easier trade time ll let decide email preference course available weekend democratic process prevail majority vote rule let hear soon possible preferably end weekend vote way complaining allowed like tend great weekend great golf great fishing great shopping makes happy bobby'"
      ]
     },
     "execution_count": 10,
     "metadata": {},
     "output_type": "execute_result"
    }
   ],
   "source": [
    "def text_cleaning(email):\n",
    "    \n",
    "    # remove html markup\n",
    "    email=re.sub(\"(<.*?>)\",\"\",email)\n",
    "    email=re.sub(\"(\\r\\n)|(\\r)|(\\n)\",\" \",email)\n",
    "    #remove non-ascii and digits\n",
    "    email=re.sub(\"[^A-Za-z ]\",\"\",email)\n",
    "    #remove extra whitespaces\n",
    "    email=re.sub(' +', ' ', email)\n",
    "\n",
    "    return email\n",
    "\n",
    "cleaned_df['text'] = cleaned_df['text'].apply(lambda x:text_cleaning(x))\n",
    "cleaned_df['text'][2]"
   ]
  },
  {
   "cell_type": "markdown",
   "id": "a617810b",
   "metadata": {},
   "source": [
    "### Stemming\n",
    "To improve results we can group together the inflected forms of a word so they can be analysed as a single item, identified by its root."
   ]
  },
  {
   "cell_type": "code",
   "execution_count": 11,
   "id": "3aa388ea",
   "metadata": {},
   "outputs": [
    {
     "data": {
      "text/plain": [
       "'subject neon retreat ho ho ho wonder time year neon leader retreat time know time year extrem hectic tough think past holiday life past week decemb januari d like think minut calend hand begin fall semest retreat schedul weekend januari youth minist confer brad dustin connect week go chang date follow weekend januari come need think think agre import time recharg batteri far spring semest lot troubl difficult away kid brad came potenti altern weekend let know prefer option retreat similar past year year heartland countri inn www com outsid brenham nice place bedroom bedroom hous countri real relax close brenham hour minut golf shop antiqu craft store brenham eat dinner ranch spend time meet saturday return sunday morn like past second option stay houston dinner nice restaur dessert time visit recharg home saturday even easier trade time ll let decid email prefer cours avail weekend democrat process prevail major vote rule let hear soon possibl prefer end weekend vote way complain allow like tend great weekend great golf great fish great shop make happi bobbi'"
      ]
     },
     "execution_count": 11,
     "metadata": {},
     "output_type": "execute_result"
    }
   ],
   "source": [
    "def stem_texts(email):  \n",
    "    return (\" \").join([snowball.stem(word) for word in word_tokenize(email)])\n",
    "    \n",
    "cleaned_df['text'] = cleaned_df['text'].apply(lambda x:stem_texts(x))\n",
    "cleaned_df['text'][2]"
   ]
  },
  {
   "cell_type": "markdown",
   "id": "e39eb746",
   "metadata": {},
   "source": [
    "### Lemmatizing\n",
    "As an alternative to stemming we can group together the inflected forms of a word so they can be analysed as a single item, identified by the word's lemma, or dictionary form."
   ]
  },
  {
   "cell_type": "code",
   "execution_count": 12,
   "id": "96f53088",
   "metadata": {},
   "outputs": [],
   "source": [
    "def penn2morphy(penntag):\n",
    "    \n",
    "    if penntag[1][:2] == 'VB':\n",
    "        return 'v'\n",
    "    elif penntag[1][:2] == 'JJ':\n",
    "        return 'a'\n",
    "    elif penntag[1][:2] == 'RB':\n",
    "        return 'r'\n",
    "    else: \n",
    "        return 'n'\n",
    "        \n",
    "\n",
    "def lemmatize_sent(email_list): \n",
    "    \n",
    "    new_list = []\n",
    "    for email in email_list:\n",
    "        new_text = (\" \").join([wnl.lemmatize(word.lower(), pos=penn2morphy(tag)) for word, tag in pos_tag(word_tokenize(email))])\n",
    "        new_list.append(new_text)\n",
    "    return new_list\n",
    "    \n",
    "    \n",
    "# cleaned_df['text'] = lemmatize_sent(cleaned_df['text'])\n",
    "# cleaned_df['text'][2]"
   ]
  },
  {
   "cell_type": "markdown",
   "id": "0eab3da1",
   "metadata": {},
   "source": [
    "### Exemple of text after preprocessing:\n",
    "\n",
    "Below we can see an example of a legit email before and after the filters, now, the text is much simpler!"
   ]
  },
  {
   "cell_type": "code",
   "execution_count": 13,
   "id": "bbd3aaa1",
   "metadata": {},
   "outputs": [
    {
     "data": {
      "text/plain": [
       "\"Subject: neon retreat\\r\\nho ho ho , we ' re around to that most wonderful time of the year - - - neon leaders retreat time !\\r\\ni know that this time of year is extremely hectic , and that it ' s tough to think about anything past the holidays , but life does go on past the week of december 25 through january 1 , and that ' s what i ' d like you to think about for a minute .\\r\\non the calender that i handed out at the beginning of the fall semester , the retreat was scheduled for the weekend of january 5 - 6 . but because of a youth ministers conference that brad and dustin are connected with that week , we ' re going to change the date to the following weekend , january 12 - 13 . now comes the part you need to think about .\\r\\ni think we all agree that it ' s important for us to get together and have some time to recharge our batteries before we get to far into the spring semester , but it can be a lot of trouble and difficult for us to get away without kids , etc . so , brad came up with a potential alternative for how we can get together on that weekend , and then you can let me know which you prefer .\\r\\nthe first option would be to have a retreat similar to what we ' ve done the past several years . this year we could go to the heartland country inn ( www . . com ) outside of brenham . it ' s a nice place , where we ' d have a 13 - bedroom and a 5 - bedroom house side by side . it ' s in the country , real relaxing , but also close to brenham and only about one hour and 15 minutes from here . we can golf , shop in the antique and craft stores in brenham , eat dinner together at the ranch , and spend time with each other . we ' d meet on saturday , and then return on sunday morning , just like what we ' ve done in the past .\\r\\nthe second option would be to stay here in houston , have dinner together at a nice restaurant , and then have dessert and a time for visiting and recharging at one of our homes on that saturday evening . this might be easier , but the trade off would be that we wouldn ' t have as much time together . i ' ll let you decide .\\r\\nemail me back with what would be your preference , and of course if you ' re available on that weekend . the democratic process will prevail - - majority vote will rule ! let me hear from you as soon as possible , preferably by the end of the weekend . and if the vote doesn ' t go your way , no complaining allowed ( like i tend to do ! )\\r\\nhave a great weekend , great golf , great fishing , great shopping , or whatever makes you happy !\\r\\nbobby\""
      ]
     },
     "execution_count": 13,
     "metadata": {},
     "output_type": "execute_result"
    }
   ],
   "source": [
    "df['text'][2]"
   ]
  },
  {
   "cell_type": "code",
   "execution_count": 14,
   "id": "d839307b",
   "metadata": {},
   "outputs": [
    {
     "data": {
      "text/plain": [
       "'subject neon retreat ho ho ho wonder time year neon leader retreat time know time year extrem hectic tough think past holiday life past week decemb januari d like think minut calend hand begin fall semest retreat schedul weekend januari youth minist confer brad dustin connect week go chang date follow weekend januari come need think think agre import time recharg batteri far spring semest lot troubl difficult away kid brad came potenti altern weekend let know prefer option retreat similar past year year heartland countri inn www com outsid brenham nice place bedroom bedroom hous countri real relax close brenham hour minut golf shop antiqu craft store brenham eat dinner ranch spend time meet saturday return sunday morn like past second option stay houston dinner nice restaur dessert time visit recharg home saturday even easier trade time ll let decid email prefer cours avail weekend democrat process prevail major vote rule let hear soon possibl prefer end weekend vote way complain allow like tend great weekend great golf great fish great shop make happi bobbi'"
      ]
     },
     "execution_count": 14,
     "metadata": {},
     "output_type": "execute_result"
    }
   ],
   "source": [
    "cleaned_df['text'][2]"
   ]
  },
  {
   "cell_type": "markdown",
   "id": "d1b25581",
   "metadata": {},
   "source": [
    "## Saving the preprocessed dataframe\n",
    "The data will be saved in a file, *preprocessed_spam_ham*, so all our models can use it!"
   ]
  },
  {
   "cell_type": "code",
   "execution_count": 15,
   "id": "6f31d1a7",
   "metadata": {},
   "outputs": [],
   "source": [
    "cleaned_df.to_csv(\"./data/preprocessed_spam_ham.csv\")"
   ]
  }
 ],
 "metadata": {
  "kernelspec": {
   "display_name": "Python 3",
   "language": "python",
   "name": "python3"
  },
  "language_info": {
   "codemirror_mode": {
    "name": "ipython",
    "version": 3
   },
   "file_extension": ".py",
   "mimetype": "text/x-python",
   "name": "python",
   "nbconvert_exporter": "python",
   "pygments_lexer": "ipython3",
   "version": "3.9.5"
  }
 },
 "nbformat": 4,
 "nbformat_minor": 5
}
