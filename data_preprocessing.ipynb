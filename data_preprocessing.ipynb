{
 "cells": [
  {
   "cell_type": "markdown",
   "id": "7ae3a34e",
   "metadata": {},
   "source": [
    "# Data Preprocessing\n",
    "\n",
    "For this assignment, I used the [Spam Mails Dataset](https://www.kaggle.com/venky73/spam-mails-dataset) found on kaggle. To achieve better results, the data, which consists of several e-mails that were either considered legit or spam, was filtered through various process such as stopword, punctuation and noise removal, lowercasing and Lemmatizing. "
   ]
  },
  {
   "cell_type": "code",
   "execution_count": 1,
   "id": "2b9b3f63",
   "metadata": {},
   "outputs": [
    {
     "name": "stderr",
     "output_type": "stream",
     "text": [
      "[nltk_data] Downloading package wordnet to\n",
      "[nltk_data]     C:\\Users\\ritar\\AppData\\Roaming\\nltk_data...\n",
      "[nltk_data]   Package wordnet is already up-to-date!\n"
     ]
    }
   ],
   "source": [
    "import nltk, re, json\n",
    "import pandas as pd\n",
    "\n",
    "from IPython.core.display import display, HTML\n",
    "from gensim.parsing.preprocessing import remove_stopwords\n",
    "from string import punctuation\n",
    "from nltk.stem import WordNetLemmatizer\n",
    "from nltk.stem import SnowballStemmer\n",
    "\n",
    "nltk.download('wordnet')\n",
    "snowball = SnowballStemmer(language='english')\n",
    "lemmatizer = WordNetLemmatizer()\n",
    "\n"
   ]
  },
  {
   "cell_type": "markdown",
   "id": "768bae4c",
   "metadata": {},
   "source": [
    "### The used dataframe:"
   ]
  },
  {
   "cell_type": "code",
   "execution_count": 2,
   "id": "212afd72",
   "metadata": {},
   "outputs": [
    {
     "data": {
      "text/html": [
       "<div>\n",
       "<style scoped>\n",
       "    .dataframe tbody tr th:only-of-type {\n",
       "        vertical-align: middle;\n",
       "    }\n",
       "\n",
       "    .dataframe tbody tr th {\n",
       "        vertical-align: top;\n",
       "    }\n",
       "\n",
       "    .dataframe thead th {\n",
       "        text-align: right;\n",
       "    }\n",
       "</style>\n",
       "<table border=\"1\" class=\"dataframe\">\n",
       "  <thead>\n",
       "    <tr style=\"text-align: right;\">\n",
       "      <th></th>\n",
       "      <th>Unnamed: 0</th>\n",
       "      <th>label</th>\n",
       "      <th>text</th>\n",
       "      <th>label_num</th>\n",
       "    </tr>\n",
       "  </thead>\n",
       "  <tbody>\n",
       "    <tr>\n",
       "      <th>0</th>\n",
       "      <td>605</td>\n",
       "      <td>ham</td>\n",
       "      <td>Subject: enron methanol ; meter # : 988291\\r\\n...</td>\n",
       "      <td>0</td>\n",
       "    </tr>\n",
       "    <tr>\n",
       "      <th>1</th>\n",
       "      <td>2349</td>\n",
       "      <td>ham</td>\n",
       "      <td>Subject: hpl nom for january 9 , 2001\\r\\n( see...</td>\n",
       "      <td>0</td>\n",
       "    </tr>\n",
       "    <tr>\n",
       "      <th>2</th>\n",
       "      <td>3624</td>\n",
       "      <td>ham</td>\n",
       "      <td>Subject: neon retreat\\r\\nho ho ho , we ' re ar...</td>\n",
       "      <td>0</td>\n",
       "    </tr>\n",
       "    <tr>\n",
       "      <th>3</th>\n",
       "      <td>4685</td>\n",
       "      <td>spam</td>\n",
       "      <td>Subject: photoshop , windows , office . cheap ...</td>\n",
       "      <td>1</td>\n",
       "    </tr>\n",
       "    <tr>\n",
       "      <th>4</th>\n",
       "      <td>2030</td>\n",
       "      <td>ham</td>\n",
       "      <td>Subject: re : indian springs\\r\\nthis deal is t...</td>\n",
       "      <td>0</td>\n",
       "    </tr>\n",
       "  </tbody>\n",
       "</table>\n",
       "</div>"
      ],
      "text/plain": [
       "   Unnamed: 0 label                                               text  \\\n",
       "0         605   ham  Subject: enron methanol ; meter # : 988291\\r\\n...   \n",
       "1        2349   ham  Subject: hpl nom for january 9 , 2001\\r\\n( see...   \n",
       "2        3624   ham  Subject: neon retreat\\r\\nho ho ho , we ' re ar...   \n",
       "3        4685  spam  Subject: photoshop , windows , office . cheap ...   \n",
       "4        2030   ham  Subject: re : indian springs\\r\\nthis deal is t...   \n",
       "\n",
       "   label_num  \n",
       "0          0  \n",
       "1          0  \n",
       "2          0  \n",
       "3          1  \n",
       "4          0  "
      ]
     },
     "execution_count": 2,
     "metadata": {},
     "output_type": "execute_result"
    }
   ],
   "source": [
    "df = pd.read_csv(\"./data/spam_ham.csv\")\n",
    "df.head()"
   ]
  },
  {
   "cell_type": "markdown",
   "id": "c03a079b",
   "metadata": {},
   "source": [
    "### An exemple of a legit email:"
   ]
  },
  {
   "cell_type": "code",
   "execution_count": 3,
   "id": "9bccf86a",
   "metadata": {},
   "outputs": [
    {
     "data": {
      "text/html": [
       "Subject: enron methanol ; meter # : 988291\r\n",
       "this is a follow up to the note i gave you on monday , 4 / 3 / 00 { preliminary\r\n",
       "flow data provided by daren } .\r\n",
       "please override pop ' s daily volume { presently zero } to reflect daily\r\n",
       "activity you can obtain from gas control .\r\n",
       "this change is needed asap for economics purposes ."
      ],
      "text/plain": [
       "<IPython.core.display.HTML object>"
      ]
     },
     "metadata": {},
     "output_type": "display_data"
    }
   ],
   "source": [
    "ham = df[df['label_num'] == 0]\n",
    "display(HTML(ham.iloc[0]['text']))"
   ]
  },
  {
   "cell_type": "markdown",
   "id": "e8c06bb2",
   "metadata": {},
   "source": [
    "### An exemple of spam:"
   ]
  },
  {
   "cell_type": "code",
   "execution_count": 4,
   "id": "f039377e",
   "metadata": {},
   "outputs": [
    {
     "data": {
      "text/html": [
       "Subject: looking for medication ? we ` re the best source .\r\n",
       "it is difficult to make our material condition better by the best law , but it is easy enough to ruin it by bad laws .\r\n",
       "excuse me . . . : ) you just found the\r\n",
       "best and simpliest site for\r\n",
       "medication on the net . no perscription , easy\r\n",
       "delivery .\r\n",
       "private , secure , and easy .\r\n",
       "better see rightly on a pound a week than squint on a million .\r\n",
       "we ` ve got\r\n",
       "anything that you will ever want .\r\n",
       "erection treatment pills , anti - depressant pills , weight loss , and\r\n",
       "more ! http : / / splicings . bombahakcx . com / 3 /\r\n",
       "knowledge and human power are synonymous .\r\n",
       "only high - quality stuff for low rates !\r\n",
       "100 % moneyback guarantee !\r\n",
       "there is no god , nature sufficeth unto herself in no wise hath she need of an author ."
      ],
      "text/plain": [
       "<IPython.core.display.HTML object>"
      ]
     },
     "metadata": {},
     "output_type": "display_data"
    }
   ],
   "source": [
    "spam = df[df['label_num'] == 1]\n",
    "display(HTML(spam.iloc[1]['text']))"
   ]
  },
  {
   "cell_type": "markdown",
   "id": "66127c76",
   "metadata": {},
   "source": [
    "## Pre Processing\n",
    "In order to be able to compare the processed data with the original one we'll make a copy!"
   ]
  },
  {
   "cell_type": "code",
   "execution_count": 5,
   "id": "33b22882",
   "metadata": {},
   "outputs": [],
   "source": [
    "cleaned_df = df.copy()"
   ]
  },
  {
   "cell_type": "markdown",
   "id": "77afef30",
   "metadata": {},
   "source": [
    "### Lowercasing\n",
    "\n",
    "All text will be lower case, so our models won't differ in identical words with different spelling."
   ]
  },
  {
   "cell_type": "code",
   "execution_count": 6,
   "id": "52cf83ba",
   "metadata": {},
   "outputs": [
    {
     "data": {
      "text/plain": [
       "\"subject: enron methanol ; meter # : 988291\\r\\nthis is a follow up to the note i gave you on monday , 4 / 3 / 00 { preliminary\\r\\nflow data provided by daren } .\\r\\nplease override pop ' s daily volume { presently zero } to reflect daily\\r\\nactivity you can obtain from gas control .\\r\\nthis change is needed asap for economics purposes .\""
      ]
     },
     "execution_count": 6,
     "metadata": {},
     "output_type": "execute_result"
    }
   ],
   "source": [
    "def lowercase_texts(texts):\n",
    "   \n",
    "    lower_texts=[email.lower() for email in texts]\n",
    "    return lower_texts\n",
    "    \n",
    "cleaned_df['text'] = lowercase_texts(cleaned_df['text'])\n",
    "cleaned_df['text'][0]"
   ]
  },
  {
   "cell_type": "markdown",
   "id": "91379be0",
   "metadata": {},
   "source": [
    "### Removing punctuation\n",
    "\n",
    "Punctuation will be useless, so we're better off without it!"
   ]
  },
  {
   "cell_type": "code",
   "execution_count": 7,
   "id": "ef3bc0bd",
   "metadata": {},
   "outputs": [
    {
     "data": {
      "text/plain": [
       "'subject enron methanol  meter   988291\\r\\nthis is a follow up to the note i gave you on monday  4  3  00  preliminary\\r\\nflow data provided by daren  \\r\\nplease override pop  s daily volume  presently zero  to reflect daily\\r\\nactivity you can obtain from gas control \\r\\nthis change is needed asap for economics purposes '"
      ]
     },
     "execution_count": 7,
     "metadata": {},
     "output_type": "execute_result"
    }
   ],
   "source": [
    "def remove_punct(email_list):    \n",
    "    return [s.translate(str.maketrans('', '', punctuation)) for s in email_list]\n",
    "\n",
    "        \n",
    "cleaned_df['text'] = remove_punct(cleaned_df['text'])\n",
    "cleaned_df['text'][0]"
   ]
  },
  {
   "cell_type": "markdown",
   "id": "0ee66d7d",
   "metadata": {},
   "source": [
    "### Removing Stopwords\n",
    "Very common words will be filtered out, as they won't help in classifying whether they belong to spam or legitimate emails."
   ]
  },
  {
   "cell_type": "code",
   "execution_count": 8,
   "id": "69a32bf7",
   "metadata": {},
   "outputs": [
    {
     "data": {
      "text/plain": [
       "'subject enron methanol meter 988291 follow note gave monday 4 3 00 preliminary flow data provided daren override pop s daily volume presently zero reflect daily activity obtain gas control change needed asap economics purposes'"
      ]
     },
     "execution_count": 8,
     "metadata": {},
     "output_type": "execute_result"
    }
   ],
   "source": [
    "def stopword_removal(email_list):\n",
    "    return [remove_stopwords(text) for text in email_list]\n",
    "\n",
    "cleaned_df['text'] = stopword_removal(cleaned_df['text'])\n",
    "cleaned_df['text'][0]"
   ]
  },
  {
   "cell_type": "markdown",
   "id": "d08e4283",
   "metadata": {},
   "source": [
    "### Removing noise\n",
    "Numbers, non-ascii characters and HTML markups are also removed."
   ]
  },
  {
   "cell_type": "code",
   "execution_count": 9,
   "id": "818b6981",
   "metadata": {},
   "outputs": [
    {
     "data": {
      "text/plain": [
       "'subject enron methanol meter  follow note gave monday    preliminary flow data provided daren override pop s daily volume presently zero reflect daily activity obtain gas control change needed asap economics purposes'"
      ]
     },
     "execution_count": 9,
     "metadata": {},
     "output_type": "execute_result"
    }
   ],
   "source": [
    "def text_cleaning(email_list):\n",
    "    \n",
    "    new_list = []\n",
    "    for email in email_list:\n",
    "        \n",
    "        # remove html markup\n",
    "        email=re.sub(\"(<.*?>)\",\"\",email)\n",
    "        email=re.sub(\"(\\r\\n)|(\\r)|(\\n)\",\" \",email)\n",
    "        #remove non-ascii and digits\n",
    "#         email=re.sub(\"(\\\\W|\\\\d)\",\"\",email)\n",
    "        email=re.sub(\"[^A-Za-z ]\",\"\",email)    \n",
    "        new_list.append(email)\n",
    "\n",
    "    return new_list\n",
    "\n",
    "cleaned_df['text'] = text_cleaning(cleaned_df['text'])\n",
    "cleaned_df['text'][0]"
   ]
  },
  {
   "cell_type": "markdown",
   "id": "a617810b",
   "metadata": {},
   "source": [
    "### Lemmatizing\n",
    "Finally, we group together the inflected forms of a word so they can be analysed as a single item, identified by its root."
   ]
  },
  {
   "cell_type": "code",
   "execution_count": 10,
   "id": "3aa388ea",
   "metadata": {},
   "outputs": [
    {
     "data": {
      "text/plain": [
       "'subject enron methanol meter  follow note gave monday    preliminari flow data provid daren overrid pop s daili volum present zero reflect daili activ obtain gas control chang need asap econom purpos'"
      ]
     },
     "execution_count": 10,
     "metadata": {},
     "output_type": "execute_result"
    }
   ],
   "source": [
    "def stem_texts(email_list):  \n",
    "    \n",
    "    new_list = []\n",
    "    for email in email_list:\n",
    "    \n",
    "        email =(\" \").join([snowball.stem(word) for word in email.split(\" \")])\n",
    "        new_list.append(email)\n",
    "        \n",
    "    return new_list\n",
    "    \n",
    "cleaned_df['text'] = stem_texts(cleaned_df['text'])\n",
    "cleaned_df['text'][0]"
   ]
  },
  {
   "cell_type": "markdown",
   "id": "0eab3da1",
   "metadata": {},
   "source": [
    "### Exemple of text after preprocessing:\n",
    "\n",
    "Below we can see an example of a legit email before and after the filters, now, the text is much simpler!"
   ]
  },
  {
   "cell_type": "code",
   "execution_count": 11,
   "id": "bbd3aaa1",
   "metadata": {},
   "outputs": [
    {
     "data": {
      "text/plain": [
       "\"Subject: spring savings certificate - take 30 % off\\r\\nsave 30 % when you use our customer appreciation spring savings\\r\\ncertificate at foot locker , lady foot locker , kids foot locker and at\\r\\nour online stores !\\r\\nwelcome to our customer appreciation spring savings certificate !\\r\\nuse the special certificate below and receive 30 % off your purchases either in our stores or online . hurry ! this 4 - day sale begins thursday , march 22 and ends sunday , march 25 .\\r\\nshare the savings today and e - mail this offer to your friends . many items already are reduced and the 30 % discount is taken off the lowest sale price .\\r\\nclick below to print your customer appreciation spring savings certificate . you must present this coupon at any foot locker , lady foot locker or kids foot locker store in the u . s . foot locker canada is not participating in this program .\\r\\nready , set , save !\\r\\nour spring savings discount will automatically appear when you use the links below or type camlem 21 into the promotion code box during checkout .\\r\\nfootlocker . com certificate code : camlem 21\\r\\nladyfootlocker . com certificate code : camlem 21\\r\\nkidsfootlocker . com certificate code : camlem 21\\r\\nremember , returns are hassle - free . simply bring your items to any of our stores nationwide or through the mail .\\r\\ndon ' t be left out - register today to learn about our new products , promotions , events and other specials . simply click below .\\r\\nterms and conditions . some exclusions apply , please see manager for complete details . certificate must be presented at the time of purchase and cannot be used in conjunction with any other discount offer or associate benefit . not redeemable for cash . applicable taxes must be paid by bearer . cannot be applied to prior purchases or to gift card purchases . void where prohibited , licensed or regulated . catalog exclusions apply . valid thursday , 3 / 22 / 01 through sunday , 3 / 25 / 01 . foot locker canada will not participate in this program .\\r\\nif you do not wish to receive future emails please click below to\\r\\nunsubscribe :\\r\\n\""
      ]
     },
     "execution_count": 11,
     "metadata": {},
     "output_type": "execute_result"
    }
   ],
   "source": [
    "df['text'][6]"
   ]
  },
  {
   "cell_type": "code",
   "execution_count": 12,
   "id": "d839307b",
   "metadata": {},
   "outputs": [
    {
     "data": {
      "text/plain": [
       "'subject spring save certif  save  use custom appreci spring save certif foot locker ladi foot locker kid foot locker onlin store welcom custom appreci spring save certif use special certif receiv  purchas store onlin hurri  day sale begin thursday march  end sunday march  share save today e mail offer friend item reduc  discount taken lowest sale price click print custom appreci spring save certif present coupon foot locker ladi foot locker kid foot locker store u s foot locker canada particip program readi set save spring save discount automat appear use link type camlem  promot code box checkout footlock com certif code camlem  ladyfootlock com certif code camlem  kidsfootlock com certif code camlem  rememb return hassl free simpli bring item store nationwid mail t left regist today learn new product promot event special simpli click term condit exclus appli manag complet detail certif present time purchas conjunct discount offer associ benefit redeem cash applic tax paid bearer appli prior purchas gift card purchas void prohibit licens regul catalog exclus appli valid thursday    sunday    foot locker canada particip program wish receiv futur email click unsubscrib'"
      ]
     },
     "execution_count": 12,
     "metadata": {},
     "output_type": "execute_result"
    }
   ],
   "source": [
    "cleaned_df['text'][6]"
   ]
  },
  {
   "cell_type": "markdown",
   "id": "d1b25581",
   "metadata": {},
   "source": [
    "## Saving the preprocessed dataframe\n",
    "The data will be saved in a file, *preprocessed_spam_ham*, so all our models can use it!"
   ]
  },
  {
   "cell_type": "code",
   "execution_count": 13,
   "id": "6f31d1a7",
   "metadata": {},
   "outputs": [],
   "source": [
    "cleaned_df.to_csv(\"./data/preprocessed_spam_ham.csv\")"
   ]
  }
 ],
 "metadata": {
  "kernelspec": {
   "display_name": "Python 3",
   "language": "python",
   "name": "python3"
  },
  "language_info": {
   "codemirror_mode": {
    "name": "ipython",
    "version": 3
   },
   "file_extension": ".py",
   "mimetype": "text/x-python",
   "name": "python",
   "nbconvert_exporter": "python",
   "pygments_lexer": "ipython3",
   "version": "3.9.5"
  }
 },
 "nbformat": 4,
 "nbformat_minor": 5
}
