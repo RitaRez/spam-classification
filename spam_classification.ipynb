{
 "cells": [
  {
   "cell_type": "markdown",
   "id": "6ccb2571",
   "metadata": {
    "heading_collapsed": true
   },
   "source": [
    "# Multiple Methods for Spam Classification\n",
    "---\n",
    "Rita Rezende Borges de Lima <br>\n",
    "DCC - UFMG"
   ]
  },
  {
   "cell_type": "markdown",
   "id": "4c588fed",
   "metadata": {},
   "source": [
    "# Main Goals\n",
    "In this assignment the objective is to classify spam emails through various algorithms such as *Naive Bayes Classification*, *Support Vector Machines*, *Random Forrest Classifier*, *Gradient Boost* and a (find better name) *Neural Network* so to compare using cross-validation the accuracy of the models on the given task. My hypotheses are that the best results will be obtained through the Neural Net. "
   ]
  },
  {
   "cell_type": "markdown",
   "id": "4b413b02",
   "metadata": {},
   "source": [
    "## Libraries\n",
    "\n",
    "Several python modules we're needed. **Pandas** was used for handling the data frames, **re** and multiple **nltk** modules we're used for data preprocessing, **Seaborn** was used to improve report visualization, **scikit-learn** was used to extract features and for its classifiers."
   ]
  },
  {
   "cell_type": "code",
   "execution_count": 1,
   "id": "2b9b3f63",
   "metadata": {},
   "outputs": [
    {
     "name": "stderr",
     "output_type": "stream",
     "text": [
      "[nltk_data] Downloading package wordnet to\n",
      "[nltk_data]     C:\\Users\\ritar\\AppData\\Roaming\\nltk_data...\n",
      "[nltk_data]   Package wordnet is already up-to-date!\n",
      "[nltk_data] Downloading package averaged_perceptron_tagger to\n",
      "[nltk_data]     C:\\Users\\ritar\\AppData\\Roaming\\nltk_data...\n",
      "[nltk_data]   Package averaged_perceptron_tagger is already up-to-\n",
      "[nltk_data]       date!\n"
     ]
    }
   ],
   "source": [
    "import nltk, re, json, os\n",
    "import pandas as pd\n",
    "import seaborn as sns\n",
    "\n",
    "from IPython.core.display import display, HTML\n",
    "from gensim.parsing.preprocessing import remove_stopwords\n",
    "from string import punctuation\n",
    "from nltk.stem import WordNetLemmatizer, SnowballStemmer\n",
    "from nltk import pos_tag\n",
    "from nltk.tokenize import word_tokenize\n",
    "\n",
    "from contractions import contractionsdict\n",
    "contractions_re=re.compile('(%s)' % '|'.join(contractionsdict.keys()))\n",
    "\n",
    "from hyperparams import random_forest_hp, svm_hp, grad_boosting_hp\n",
    "\n",
    "\n",
    "nltk.download('wordnet')\n",
    "nltk.download('averaged_perceptron_tagger')\n",
    "snowball = SnowballStemmer(language='english')\n",
    "wnl = WordNetLemmatizer()\n",
    "\n",
    "from sklearn.naive_bayes import MultinomialNB, ComplementNB\n",
    "from sklearn.ensemble import RandomForestClassifier, GradientBoostingClassifier \n",
    "from sklearn.svm import SVC\n",
    "\n",
    "from sklearn.metrics import f1_score, confusion_matrix, accuracy_score, classification_report\n",
    "from sklearn.utils import resample\n",
    "from sklearn.model_selection import RandomizedSearchCV, train_test_split\n",
    "from sklearn.feature_extraction.text import TfidfVectorizer\n"
   ]
  },
  {
   "cell_type": "markdown",
   "id": "7ae3a34e",
   "metadata": {
    "heading_collapsed": true
   },
   "source": [
    "# Data Preprocessing\n",
    "\n",
    "For this assignment, I used the [Spam Mails Dataset](https://www.kaggle.com/venky73/spam-mails-dataset) found on kaggle, which was retrieved from [Enron Spam](http://www2.aueb.gr/users/ion/data/enron-spam/). The data frame consists of three columns, a textual label (ham or spam), the text on the email and a boolean label (0 or 1) . To achieve better results, the textual data, which consists of several e-mails that were either considered legit or spam, was filtered through various process such as lowercasing, expanding contractions, stopword, punctuation and noise removal and stemming. "
   ]
  },
  {
   "cell_type": "markdown",
   "id": "768bae4c",
   "metadata": {
    "hidden": true
   },
   "source": [
    "### The used dataframe:\n",
    "In order to be able to compare the processed data with the original one we'll make a copy!"
   ]
  },
  {
   "cell_type": "code",
   "execution_count": 2,
   "id": "212afd72",
   "metadata": {
    "hidden": true
   },
   "outputs": [
    {
     "data": {
      "text/html": [
       "<div>\n",
       "<style scoped>\n",
       "    .dataframe tbody tr th:only-of-type {\n",
       "        vertical-align: middle;\n",
       "    }\n",
       "\n",
       "    .dataframe tbody tr th {\n",
       "        vertical-align: top;\n",
       "    }\n",
       "\n",
       "    .dataframe thead th {\n",
       "        text-align: right;\n",
       "    }\n",
       "</style>\n",
       "<table border=\"1\" class=\"dataframe\">\n",
       "  <thead>\n",
       "    <tr style=\"text-align: right;\">\n",
       "      <th></th>\n",
       "      <th>Unnamed: 0</th>\n",
       "      <th>label</th>\n",
       "      <th>text</th>\n",
       "      <th>label_num</th>\n",
       "    </tr>\n",
       "  </thead>\n",
       "  <tbody>\n",
       "    <tr>\n",
       "      <th>0</th>\n",
       "      <td>605</td>\n",
       "      <td>ham</td>\n",
       "      <td>Subject: enron methanol ; meter # : 988291\\r\\n...</td>\n",
       "      <td>0</td>\n",
       "    </tr>\n",
       "    <tr>\n",
       "      <th>1</th>\n",
       "      <td>2349</td>\n",
       "      <td>ham</td>\n",
       "      <td>Subject: hpl nom for january 9 , 2001\\r\\n( see...</td>\n",
       "      <td>0</td>\n",
       "    </tr>\n",
       "    <tr>\n",
       "      <th>2</th>\n",
       "      <td>3624</td>\n",
       "      <td>ham</td>\n",
       "      <td>Subject: neon retreat\\r\\nho ho ho , we ' re ar...</td>\n",
       "      <td>0</td>\n",
       "    </tr>\n",
       "    <tr>\n",
       "      <th>3</th>\n",
       "      <td>4685</td>\n",
       "      <td>spam</td>\n",
       "      <td>Subject: photoshop , windows , office . cheap ...</td>\n",
       "      <td>1</td>\n",
       "    </tr>\n",
       "    <tr>\n",
       "      <th>4</th>\n",
       "      <td>2030</td>\n",
       "      <td>ham</td>\n",
       "      <td>Subject: re : indian springs\\r\\nthis deal is t...</td>\n",
       "      <td>0</td>\n",
       "    </tr>\n",
       "  </tbody>\n",
       "</table>\n",
       "</div>"
      ],
      "text/plain": [
       "   Unnamed: 0 label                                               text  \\\n",
       "0         605   ham  Subject: enron methanol ; meter # : 988291\\r\\n...   \n",
       "1        2349   ham  Subject: hpl nom for january 9 , 2001\\r\\n( see...   \n",
       "2        3624   ham  Subject: neon retreat\\r\\nho ho ho , we ' re ar...   \n",
       "3        4685  spam  Subject: photoshop , windows , office . cheap ...   \n",
       "4        2030   ham  Subject: re : indian springs\\r\\nthis deal is t...   \n",
       "\n",
       "   label_num  \n",
       "0          0  \n",
       "1          0  \n",
       "2          0  \n",
       "3          1  \n",
       "4          0  "
      ]
     },
     "execution_count": 2,
     "metadata": {},
     "output_type": "execute_result"
    }
   ],
   "source": [
    "df = pd.read_csv(\"./data/spam_ham.csv\")\n",
    "cleaned_df = df.copy()\n",
    "cleaned_df.head()"
   ]
  },
  {
   "cell_type": "markdown",
   "id": "c03a079b",
   "metadata": {
    "hidden": true
   },
   "source": [
    "### An exemple of a legit email and an exemple of spam:"
   ]
  },
  {
   "cell_type": "code",
   "execution_count": 3,
   "id": "9bccf86a",
   "metadata": {
    "hidden": true
   },
   "outputs": [
    {
     "data": {
      "text/html": [
       "<b>Legit Email:</b>"
      ],
      "text/plain": [
       "<IPython.core.display.HTML object>"
      ]
     },
     "metadata": {},
     "output_type": "display_data"
    },
    {
     "data": {
      "text/html": [
       "Subject: enron methanol ; meter # : 988291\r\n",
       "this is a follow up to the note i gave you on monday , 4 / 3 / 00 { preliminary\r\n",
       "flow data provided by daren } .\r\n",
       "please override pop ' s daily volume { presently zero } to reflect daily\r\n",
       "activity you can obtain from gas control .\r\n",
       "this change is needed asap for economics purposes ."
      ],
      "text/plain": [
       "<IPython.core.display.HTML object>"
      ]
     },
     "metadata": {},
     "output_type": "display_data"
    },
    {
     "data": {
      "text/html": [
       "<b>Spam:</b>"
      ],
      "text/plain": [
       "<IPython.core.display.HTML object>"
      ]
     },
     "metadata": {},
     "output_type": "display_data"
    },
    {
     "data": {
      "text/html": [
       "Subject: looking for medication ? we ` re the best source .\r\n",
       "it is difficult to make our material condition better by the best law , but it is easy enough to ruin it by bad laws .\r\n",
       "excuse me . . . : ) you just found the\r\n",
       "best and simpliest site for\r\n",
       "medication on the net . no perscription , easy\r\n",
       "delivery .\r\n",
       "private , secure , and easy .\r\n",
       "better see rightly on a pound a week than squint on a million .\r\n",
       "we ` ve got\r\n",
       "anything that you will ever want .\r\n",
       "erection treatment pills , anti - depressant pills , weight loss , and\r\n",
       "more ! http : / / splicings . bombahakcx . com / 3 /\r\n",
       "knowledge and human power are synonymous .\r\n",
       "only high - quality stuff for low rates !\r\n",
       "100 % moneyback guarantee !\r\n",
       "there is no god , nature sufficeth unto herself in no wise hath she need of an author ."
      ],
      "text/plain": [
       "<IPython.core.display.HTML object>"
      ]
     },
     "metadata": {},
     "output_type": "display_data"
    }
   ],
   "source": [
    "ham = df[df['label_num'] == 0]\n",
    "display(HTML(\"<b>Legit Email:</b>\"))\n",
    "display(HTML(ham.iloc[0]['text']))\n",
    "\n",
    "display(HTML(\"<b>Spam:</b>\"))\n",
    "spam = df[df['label_num'] == 1]\n",
    "display(HTML(spam.iloc[1]['text']))"
   ]
  },
  {
   "cell_type": "markdown",
   "id": "77afef30",
   "metadata": {
    "hidden": true
   },
   "source": [
    "### Lowercasing\n",
    "\n",
    "All text will be lower case, so our models won't differ in identical words with different spelling."
   ]
  },
  {
   "cell_type": "code",
   "execution_count": 4,
   "id": "52cf83ba",
   "metadata": {
    "hidden": true
   },
   "outputs": [
    {
     "data": {
      "text/plain": [
       "\"subject: re : indian springs\\r\\nthis deal is to book the teco pvr revenue . it is my understanding that teco\\r\\njust sends us a check , i haven ' t received an answer as to whether there is a\\r\\npredermined price associated with this deal or if teco just lets us know what\\r\\nwe are giving . i can continue to chase this deal down if you need .\""
      ]
     },
     "execution_count": 4,
     "metadata": {},
     "output_type": "execute_result"
    }
   ],
   "source": [
    "example_number = 4\n",
    "\n",
    "cleaned_df['text'] = cleaned_df['text'].apply(lambda x:x.lower())\n",
    "cleaned_df['text'][example_number]"
   ]
  },
  {
   "cell_type": "markdown",
   "id": "622c84b2",
   "metadata": {
    "hidden": true
   },
   "source": [
    "### Expanding contractions\n",
    "To have a cleaner text we'll transform contractions (which are quite common in legit emails and spam) in full words. <br>\n",
    "*Example:* we'll -> we will"
   ]
  },
  {
   "cell_type": "code",
   "execution_count": 5,
   "id": "5969061a",
   "metadata": {
    "hidden": true
   },
   "outputs": [
    {
     "data": {
      "text/plain": [
       "'subject: re : indian springs\\r\\nthis deal is to book the teco pvr revenue . it is my understanding that teco\\r\\njust sends us a check , i have not received an answer as to whether there is a\\r\\npredermined price associated with this deal or if teco just lets us know what\\r\\nwe are giving . i can continue to chase this deal down if you need .'"
      ]
     },
     "execution_count": 5,
     "metadata": {},
     "output_type": "execute_result"
    }
   ],
   "source": [
    "def expand_contractions(text,contractionsdict=contractionsdict):\n",
    "    def replace(match):\n",
    "        return contractionsdict[match.group(0)]\n",
    "    return contractions_re.sub(replace, text)\n",
    "\n",
    "cleaned_df['text'] = cleaned_df['text'].apply(lambda x:expand_contractions(x))\n",
    "cleaned_df['text'][example_number]"
   ]
  },
  {
   "cell_type": "markdown",
   "id": "d08e4283",
   "metadata": {
    "hidden": true
   },
   "source": [
    "### Removing Noise,  Punctuation and Stopwords\n",
    "Numbers, non-ascii characters and HTML markups are also removed."
   ]
  },
  {
   "cell_type": "code",
   "execution_count": 6,
   "id": "818b6981",
   "metadata": {
    "hidden": true
   },
   "outputs": [
    {
     "data": {
      "text/plain": [
       "'subject indian springs deal book teco pvr revenue understanding teco sends check received answer predermined price associated deal teco lets know giving continue chase deal need'"
      ]
     },
     "execution_count": 6,
     "metadata": {},
     "output_type": "execute_result"
    }
   ],
   "source": [
    "def text_cleaning(email):\n",
    "    email=re.sub(\"(<.*?>)\",\"\",email)             # remove html markup\n",
    "    email=re.sub(\"(\\r\\n)|(\\r)|(\\n)\",\" \",email)\n",
    "    email=re.sub(\"[^A-Za-z ]\",\"\",email)          #remove non-ascii and digits\n",
    "    email=re.sub(' +', ' ', email)               #remove extra whitespaces\n",
    "    return email\n",
    "\n",
    "cleaned_df['text'] = cleaned_df['text'].apply(lambda x:text_cleaning(x))\n",
    "cleaned_df['text'] = cleaned_df['text'].apply(lambda x:x.translate(str.maketrans('', '', punctuation)))\n",
    "cleaned_df['text'] = cleaned_df['text'].apply(lambda x:remove_stopwords(x))\n",
    "\n",
    "cleaned_df['text'][example_number]"
   ]
  },
  {
   "cell_type": "markdown",
   "id": "a617810b",
   "metadata": {
    "hidden": true
   },
   "source": [
    "### Stemming\n",
    "To improve results we can group together the inflected forms of a word so they can be analysed as a single item, identified by its root."
   ]
  },
  {
   "cell_type": "code",
   "execution_count": 7,
   "id": "3aa388ea",
   "metadata": {
    "hidden": true
   },
   "outputs": [
    {
     "data": {
      "text/plain": [
       "'subject indian spring deal book teco pvr revenu understand teco send check receiv answer predermin price associ deal teco let know give continu chase deal need'"
      ]
     },
     "execution_count": 7,
     "metadata": {},
     "output_type": "execute_result"
    }
   ],
   "source": [
    "def stem_texts(email):  \n",
    "    return (\" \").join([snowball.stem(word) for word in word_tokenize(email)])\n",
    "    \n",
    "cleaned_df['text'] = cleaned_df['text'].apply(lambda x:stem_texts(x))\n",
    "cleaned_df['text'][example_number]"
   ]
  },
  {
   "cell_type": "markdown",
   "id": "d1b25581",
   "metadata": {
    "hidden": true
   },
   "source": [
    "### Saving the preprocessed dataframe\n",
    "The data will be saved in a file, *preprocessed_spam_ham*, so all our models can use it!"
   ]
  },
  {
   "cell_type": "code",
   "execution_count": 8,
   "id": "6f31d1a7",
   "metadata": {
    "hidden": true
   },
   "outputs": [],
   "source": [
    "cleaned_df.to_csv(\"./data/preprocessed_spam_ham.csv\")"
   ]
  },
  {
   "cell_type": "markdown",
   "id": "655aa447",
   "metadata": {
    "heading_collapsed": true
   },
   "source": [
    "# Classifying spam in emails using Naive Bayes Methods\n",
    "\n",
    "According to the Scikit-Learn documentation, \n",
    "\n",
    "> Naive Bayes methods are a set of supervised learning algorithms based on applying Bayes’ theorem with the \"naive\" assumption of conditional independence between every pair of features given the value of the class variable. "
   ]
  },
  {
   "cell_type": "markdown",
   "id": "4cec2b50",
   "metadata": {
    "hidden": true
   },
   "source": [
    "The Naive Bayes' Theorem finds the probability of an event occurring given the probability of another event that has already occurred.\n",
    "\n",
    "So given a class variable *Y* and a dependent feature vector *X*<sub>1</sub>... *X*<sub>n</sub>:\n",
    "\n",
    "![image.png](./images/bayes_theorem.png)\n",
    "\n",
    "Assuming conditional independence such that:\n",
    "\n",
    "![image.png](./images/assumption.png)\n",
    "\n",
    "For all *i* this relationship is simplified to\n",
    "\n",
    "![image.png](./images/simplification.png)\n",
    "\n",
    "Since *P(X*<sub>1</sub>,..., *X*<sub>N</sub>*)* is constant for each input, the following classification rule is valid:\n",
    "\n",
    "![image.png](./images/classification.png)"
   ]
  },
  {
   "cell_type": "markdown",
   "id": "c13d9319",
   "metadata": {
    "hidden": true
   },
   "source": [
    "## Exploratory Data Analysis\n",
    "\n",
    "As seen bellow there are way more legit emails then spam, to handle with the imbalanced dataset we're going to resample it so to use it in the *Multinomial Naive Bayes* and we're also going to use the *Complement Naive Bayes*, which is particularly suited for imbalanced data sets."
   ]
  },
  {
   "cell_type": "code",
   "execution_count": 9,
   "id": "9f438f77",
   "metadata": {
    "hidden": true
   },
   "outputs": [
    {
     "name": "stdout",
     "output_type": "stream",
     "text": [
      "Amount of hams:  3672  Amount of spams:  1499\n"
     ]
    }
   ],
   "source": [
    "df = pd.read_csv(\"./data/preprocessed_spam_ham.csv\")\n",
    "\n",
    "df_spam = df[df['label']=='spam']\n",
    "df_ham = df[df['label']=='ham']\n",
    "\n",
    "print('Amount of hams: ', len(df_ham),' Amount of spams: ', len(df_spam))"
   ]
  },
  {
   "cell_type": "markdown",
   "id": "98ecae2d",
   "metadata": {
    "heading_collapsed": true,
    "hidden": true
   },
   "source": [
    "## Multinomial Naive Bayes and Resampling data\n",
    "Throught the function *resample* in the **scikit-learn** module, observations in the larger class (hams) will be randomly removed to prevent its signal from dominating the learning algorithm."
   ]
  },
  {
   "cell_type": "code",
   "execution_count": 10,
   "id": "014a7632",
   "metadata": {
    "hidden": true
   },
   "outputs": [],
   "source": [
    "df_ham_downsampled = resample(df_ham, replace=False, n_samples=len(df_spam), random_state=42)\n",
    "resampled_df = pd.concat([df_ham_downsampled, df_spam])"
   ]
  },
  {
   "cell_type": "markdown",
   "id": "c6e04cb5",
   "metadata": {
    "hidden": true
   },
   "source": [
    "### Train and Test Split \n",
    "\n",
    "Through the function *train_test_split* in the **scikit-learn** module, we will split the data frame in proportions 20-80."
   ]
  },
  {
   "cell_type": "code",
   "execution_count": 11,
   "id": "a43c1b0d",
   "metadata": {
    "hidden": true
   },
   "outputs": [],
   "source": [
    "x_train_rs, x_test_rs, y_train_rs, y_test_rs = train_test_split(resampled_df['text'], resampled_df['label_num'], test_size = 0.2, random_state = 42)"
   ]
  },
  {
   "cell_type": "markdown",
   "id": "5bad9305",
   "metadata": {
    "hidden": true
   },
   "source": [
    "### Feature Extraction\n",
    "\n",
    "We are going to use the function *TfidfVectorizer* from the **scikit-learn** module to extract features."
   ]
  },
  {
   "cell_type": "code",
   "execution_count": 12,
   "id": "df6f55cf",
   "metadata": {
    "hidden": true
   },
   "outputs": [],
   "source": [
    "vectorizer_rs = TfidfVectorizer()\n",
    "features_train_transformed_rs = vectorizer_rs.fit_transform(x_train_rs.tolist()) \n",
    "features_test_transformed_rs  = vectorizer_rs.transform(x_test_rs)"
   ]
  },
  {
   "cell_type": "markdown",
   "id": "93ea1f43",
   "metadata": {
    "hidden": true
   },
   "source": [
    "### Train our Naive Bayes Model\n",
    "\n",
    "We'll fit the **scikit-learning** *Naive Bayes* model, the *MultinomialNB* function, to our *TF-IDF* vector version of x_train, and the true output labels stored in y_train."
   ]
  },
  {
   "cell_type": "code",
   "execution_count": 13,
   "id": "d248ac41",
   "metadata": {
    "hidden": true
   },
   "outputs": [
    {
     "data": {
      "text/plain": [
       "MultinomialNB()"
      ]
     },
     "execution_count": 13,
     "metadata": {},
     "output_type": "execute_result"
    }
   ],
   "source": [
    "classifier = MultinomialNB()\n",
    "classifier.fit(features_train_transformed_rs, y_train_rs)"
   ]
  },
  {
   "cell_type": "markdown",
   "id": "2622add8",
   "metadata": {
    "hidden": true
   },
   "source": [
    "### Measuring Accuracy \n",
    "\n",
    "Finally, using our test sets we'll evalue the model accuracy using built-in functions from the **scikit** library."
   ]
  },
  {
   "cell_type": "code",
   "execution_count": 14,
   "id": "6d6a66bf",
   "metadata": {
    "hidden": true
   },
   "outputs": [
    {
     "name": "stdout",
     "output_type": "stream",
     "text": [
      "Accuracy Score : 0.9733333333333334\n",
      "F-Measure: 0.973\n"
     ]
    },
    {
     "data": {
      "image/png": "[encoded data removed]",
      "text/plain": [
       "<Figure size 432x288 with 2 Axes>"
      ]
     },
     "metadata": {
      "needs_background": "light"
     },
     "output_type": "display_data"
    }
   ],
   "source": [
    "labels = classifier.predict(features_test_transformed_rs)\n",
    "actual = y_test_rs.tolist()\n",
    "score_2 = f1_score(actual, labels, average = 'binary')\n",
    "\n",
    "print ('Accuracy Score :',accuracy_score(actual, labels))\n",
    "print('F-Measure: %.3f' % score_2)\n",
    "\n",
    "\n",
    "clf_report = classification_report(actual, labels, output_dict=True)\n",
    "sns.heatmap(pd.DataFrame(clf_report).iloc[:-1, :].T, annot=True, cmap=\"GnBu\", vmin=0.70, vmax=1)\n",
    "None"
   ]
  },
  {
   "cell_type": "markdown",
   "id": "1d3ade8e",
   "metadata": {
    "hidden": true
   },
   "source": [
    "## Complement Naive Bayes"
   ]
  },
  {
   "cell_type": "markdown",
   "id": "8331290e",
   "metadata": {
    "hidden": true
   },
   "source": [
    "### Train and Test Split \n",
    "\n",
    "Through the function *train_test_split* in the **scikit-learn** module, we will split the data frame in proportions 20-80."
   ]
  },
  {
   "cell_type": "code",
   "execution_count": 15,
   "id": "c41f7f60",
   "metadata": {
    "hidden": true
   },
   "outputs": [],
   "source": [
    "x_train, x_test, y_train, y_test = train_test_split(df['text'], df['label_num'], test_size = 0.2, random_state = 42)"
   ]
  },
  {
   "cell_type": "markdown",
   "id": "11198350",
   "metadata": {
    "hidden": true
   },
   "source": [
    "### Feature Extraction\n",
    "\n",
    "We are going to use the function *TfidfVectorizer* from the **scikit-learn** module to extract features."
   ]
  },
  {
   "cell_type": "code",
   "execution_count": 16,
   "id": "99f482a0",
   "metadata": {
    "hidden": true
   },
   "outputs": [],
   "source": [
    "x_train_list = x_train.tolist()\n",
    "vectorizer = TfidfVectorizer()\n",
    "features_train_transformed = vectorizer.fit_transform(x_train_list) #gives tf idf vector for x_train\n",
    "features_test_transformed  = vectorizer.transform(x_test) #gives tf idf vector for x_test"
   ]
  },
  {
   "cell_type": "markdown",
   "id": "1e0e46e9",
   "metadata": {
    "hidden": true
   },
   "source": [
    "### Train our Naive Bayes Model\n",
    "\n",
    "We'll fit the **scikit-learning** *Naive Bayes* model, the *ComplementNB* function, to our *TF-IDF* vector version of x_train, and the true output labels stored in y_train."
   ]
  },
  {
   "cell_type": "code",
   "execution_count": 17,
   "id": "bdf00cad",
   "metadata": {
    "hidden": true
   },
   "outputs": [
    {
     "data": {
      "text/plain": [
       "ComplementNB()"
      ]
     },
     "execution_count": 17,
     "metadata": {},
     "output_type": "execute_result"
    }
   ],
   "source": [
    "classifier = ComplementNB()\n",
    "classifier.fit(features_train_transformed, y_train)"
   ]
  },
  {
   "cell_type": "markdown",
   "id": "d996cede",
   "metadata": {
    "hidden": true
   },
   "source": [
    "### Measuring Accuracy \n",
    "\n",
    "Finally, using our test sets we'll evalue the model accuracy using built-in functions from the **scikit** library.### Measuring Accuracy "
   ]
  },
  {
   "cell_type": "code",
   "execution_count": 18,
   "id": "2259a5ee",
   "metadata": {
    "hidden": true
   },
   "outputs": [
    {
     "name": "stdout",
     "output_type": "stream",
     "text": [
      "Accuracy Score : 0.9719806763285024\n",
      "F-Measure: 0.949\n"
     ]
    },
    {
     "data": {
      "image/png": "[encoded data removed]",
      "text/plain": [
       "<Figure size 432x288 with 2 Axes>"
      ]
     },
     "metadata": {
      "needs_background": "light"
     },
     "output_type": "display_data"
    }
   ],
   "source": [
    "labels = classifier.predict(features_test_transformed)\n",
    "actual = y_test.tolist()\n",
    "score_2 = f1_score(actual, labels, average = 'binary')\n",
    "\n",
    "print ('Accuracy Score :',accuracy_score(actual, labels))\n",
    "print('F-Measure: %.3f' % score_2)\n",
    "\n",
    "clf_report = classification_report(actual, labels, output_dict=True)\n",
    "sns.heatmap(pd.DataFrame(clf_report).iloc[:-1, :].T, annot=True, cmap=\"GnBu\", vmin=0.70, vmax=1)\n",
    "None"
   ]
  },
  {
   "cell_type": "markdown",
   "id": "774ce37d",
   "metadata": {
    "heading_collapsed": true
   },
   "source": [
    "# Classifying spam in emails using a Random Forest Classifier.\n",
    "\n",
    "According to the Scikit-Learn documentation, \n",
    "\n",
    "> A random forest is a meta estimator that fits a number of decision tree classifiers on various sub-samples of the dataset and uses averaging to improve the predictive accuracy and control over-fitting."
   ]
  },
  {
   "cell_type": "markdown",
   "id": "98b747fd",
   "metadata": {
    "hidden": true
   },
   "source": [
    "Decision trees are a component of a random forest algorithm. The former is a technique that forms a tree-like structure that consists of three components: decision nodes, leaf nodes, and a root node. In the algorithm we divide the input dataset into branches, which recursively segregate into other branches until a leaf node is attained. The nodes in the decision tree represent attributes that are used for predicting the outcome.  \n",
    "\n",
    "The main difference between the decision tree algorithm and the random forest algorithm is that establishing root nodes and segregating nodes is done randomly in the latter. The random forest employs the bagging method to generate the required prediction. Bagging involves using different samples of data (training data) rather than just one sample. A training dataset comprises observations and features that are used for making predictions. The decision trees produce different outputs, depending on the training data fed to the random forest algorithm. These outputs will be ranked, and the highest will be selected as the final output.\n"
   ]
  },
  {
   "cell_type": "markdown",
   "id": "3d160919",
   "metadata": {
    "hidden": true
   },
   "source": [
    "### Obtaining the Best Set of Hyperparameters\n",
    "\n",
    "We'll fit the **scikit-learning**,  *RandomForestClassifier* model,  to our *TF-IDF* vector version of x_train, and the true output labels stored in y_train. Since we are dealing with the same dataframe multiple times we'll use the same vector of extracted features from the dataframe with resampling done in the last step.\n",
    "\n",
    "To obtain better results since the *Random Forest* has multiple hyper-parameters we will use the *RandomizedSearchCV* module so to obtain the best set of hyperparameters."
   ]
  },
  {
   "cell_type": "code",
   "execution_count": 19,
   "id": "1f098641",
   "metadata": {
    "hidden": true
   },
   "outputs": [
    {
     "name": "stdout",
     "output_type": "stream",
     "text": [
      "Best set of HP has already been calculated:\n",
      "Best Params:  {'min_samples_split': 200, 'min_samples_leaf': 20, 'max_depth': 10, 'criterion': 'entropy'}\n"
     ]
    }
   ],
   "source": [
    "if os.path.isfile(\"./data/random_forest_hp.txt\"):\n",
    "    \n",
    "    print(\"Best set of HP has already been calculated:\")\n",
    "    with open(\"./data/random_forest_hp.txt\") as f:\n",
    "        data = f.read()\n",
    "\n",
    "    best_p = json.loads(data)\n",
    "\n",
    "else:\n",
    "    \n",
    "    print(\"Calculating best set of HP...\")\n",
    "    \n",
    "    rfclassifier = RandomForestClassifier()\n",
    "    rsearch = RandomizedSearchCV(rfclassifier, random_forest_hp)\n",
    "    search = rsearch.fit(features_train_transformed_rs, y_train_rs)\n",
    "    rfclassifier.fit(features_train_transformed_rs, y_train_rs)\n",
    "\n",
    "    best_p, best_s = search.best_params_, search.best_score_\n",
    "    \n",
    "    with open(\"./data/random_forest_hp.txt\", 'w') as convert_file:\n",
    "     convert_file.write(json.dumps(best_p))\n",
    "    \n",
    "    print('Best Score: ', best_s)\n",
    "print ('Best Params: ', best_p)"
   ]
  },
  {
   "cell_type": "markdown",
   "id": "e39ba963",
   "metadata": {
    "hidden": true
   },
   "source": [
    "### Training our Classifier\n",
    "\n",
    "Using the dictionary of best set of hyper-parameters obtained on the previous step we will train our optimal model."
   ]
  },
  {
   "cell_type": "code",
   "execution_count": 20,
   "id": "0687b705",
   "metadata": {
    "hidden": true
   },
   "outputs": [
    {
     "data": {
      "text/plain": [
       "RandomForestClassifier(criterion='entropy', max_depth=10, min_samples_leaf=20,\n",
       "                       min_samples_split=200)"
      ]
     },
     "execution_count": 20,
     "metadata": {},
     "output_type": "execute_result"
    }
   ],
   "source": [
    "rfclassifier = RandomForestClassifier(criterion = best_p['criterion'], \n",
    "                                      max_depth = best_p['max_depth'], \n",
    "                                      min_samples_split = best_p['min_samples_split'], \n",
    "                                      min_samples_leaf = best_p['min_samples_leaf'])\n",
    "\n",
    "rfclassifier.fit(features_train_transformed_rs, y_train_rs)"
   ]
  },
  {
   "cell_type": "markdown",
   "id": "6af6b75a",
   "metadata": {
    "hidden": true
   },
   "source": [
    "### Measuring Accuracy \n",
    "\n",
    "Finally, using our test sets we'll evalue the model accuracy using built-in functions from the **scikit** library."
   ]
  },
  {
   "cell_type": "code",
   "execution_count": 21,
   "id": "41fd0309",
   "metadata": {
    "hidden": true
   },
   "outputs": [
    {
     "name": "stdout",
     "output_type": "stream",
     "text": [
      "Accuracy Score : 0.9216666666666666\n",
      "F-Measure: 0.924\n"
     ]
    },
    {
     "data": {
      "image/png": "[encoded data removed]",
      "text/plain": [
       "<Figure size 432x288 with 2 Axes>"
      ]
     },
     "metadata": {
      "needs_background": "light"
     },
     "output_type": "display_data"
    }
   ],
   "source": [
    "labels = rfclassifier.predict(features_test_transformed_rs)\n",
    "actual = y_test_rs.tolist()\n",
    "score_2 = f1_score(actual, labels, average = 'binary')\n",
    "\n",
    "print ('Accuracy Score :',accuracy_score(actual, labels))\n",
    "print('F-Measure: %.3f' % score_2)\n",
    "\n",
    "\n",
    "clf_report = classification_report(actual, labels, output_dict=True)\n",
    "sns.heatmap(pd.DataFrame(clf_report).iloc[:-1, :].T, annot=True, cmap=\"GnBu\", vmin=0.70, vmax=1)\n",
    "None"
   ]
  },
  {
   "cell_type": "markdown",
   "id": "7edf6716",
   "metadata": {},
   "source": [
    "# Classifying spam in emails using a Support Vector Machine\n",
    "\n",
    "According to the Scikit-Learn documentation, \n",
    "\n",
    "> A support vector machine constructs a hyper-plane or set of hyper-planes in a high or infinite dimensional space, which can be used for classification, regression or other tasks. Intuitively, a good separation is achieved by the hyper-plane that has the largest distance to the nearest training data points of any class (so-called functional margin), since in general the larger the margin the lower the generalization error of the classifier."
   ]
  },
  {
   "cell_type": "markdown",
   "id": "078584dd",
   "metadata": {},
   "source": [
    "In the Support Vector Machine the data will be categorized in points that may be stated in a finite-dimensional space. Because it may happen that the sets to discriminate are not linearly separable in that space, the original finite-dimensional space is mapped into a much higher-dimensional space, presumably making the separation easier in that space. To keep the computational cost efficient, these mappings used in our model ensure that dot products of pairs of input data vectors may be computed easily in terms of the variables in the original space, by defining them in terms of a kernel function that suits the problem. The hyperplanes in the higher-dimensional space are defined as the set of points whose dot product with a vector in that space is constant, where such a set of vectors is an orthogonal (and thus minimal) set of vectors that defines a hyperplane. "
   ]
  },
  {
   "cell_type": "markdown",
   "id": "10a4cb9f",
   "metadata": {},
   "source": [
    "### Obtaining the Best Set of Hyperparameters\n",
    "\n",
    "We'll fit the **scikit-learning**,  *RandomForestClassifier* model,  to our *TF-IDF* vector version of x_train, and the true output labels stored in y_train. Since we are dealing with the same dataframe multiple times we'll use the same vector of extracted features from the dataframe with resampling done in the last step.\n",
    "\n",
    "To obtain better results since the *Random Forest* has multiple hyper-parameters we will use the *RandomizedSearchCV* module so to obtain the best set of hyperparameters."
   ]
  },
  {
   "cell_type": "code",
   "execution_count": 22,
   "id": "ac0f7b86",
   "metadata": {},
   "outputs": [
    {
     "name": "stdout",
     "output_type": "stream",
     "text": [
      "Best set of HP has already been calculated:\n",
      "Best Params:  {'shrinking': True, 'kernel': 'linear', 'gamma': 'auto', 'degree': 3}\n"
     ]
    }
   ],
   "source": [
    "if os.path.isfile(\"./data/support_vector_hp.txt\"):\n",
    "    \n",
    "    print(\"Best set of HP has already been calculated:\")\n",
    "    with open(\"./data/support_vector_hp.txt\") as f:\n",
    "        data = f.read()\n",
    "\n",
    "    best_p = json.loads(data)\n",
    "\n",
    "else:\n",
    "    \n",
    "    print(\"Calculating best set of HP...\")\n",
    "\n",
    "    sv_classifier = SVC()\n",
    "\n",
    "    rsearch = RandomizedSearchCV(sv_classifier, svm_hp)\n",
    "    search = rsearch.fit(features_train_transformed_rs, y_train_rs)\n",
    "\n",
    "    sv_classifier.fit(features_train_transformed_rs, y_train_rs)\n",
    "\n",
    "    best_p, best_s = search.best_params_, search.best_score_\n",
    "    \n",
    "    with open(\"./data/support_vector_hp.txt\", 'w') as convert_file:\n",
    "     convert_file.write(json.dumps(best_p))\n",
    "    \n",
    "    print('Best Score: ', best_s)\n",
    "print ('Best Params: ', best_p)"
   ]
  },
  {
   "cell_type": "markdown",
   "id": "7dbe127b",
   "metadata": {},
   "source": [
    "### Training our Classifier\n",
    "\n",
    "Using the dictionary of best set of hyper-parameters obtained on the previous step we will train our optimal model."
   ]
  },
  {
   "cell_type": "code",
   "execution_count": 23,
   "id": "0ded1b25",
   "metadata": {},
   "outputs": [
    {
     "data": {
      "text/plain": [
       "SVC(gamma='auto', kernel='linear')"
      ]
     },
     "execution_count": 23,
     "metadata": {},
     "output_type": "execute_result"
    }
   ],
   "source": [
    "sv_classifier = SVC(kernel = best_p['kernel'], \n",
    "                                      degree = best_p['degree'], \n",
    "                                      gamma = best_p['gamma'], \n",
    "                                      shrinking = best_p['shrinking'])\n",
    "\n",
    "sv_classifier.fit(features_train_transformed_rs, y_train_rs)"
   ]
  },
  {
   "cell_type": "markdown",
   "id": "61c6374b",
   "metadata": {},
   "source": [
    "### Measuring Accuracy \n",
    "\n",
    "Finally, using our test sets we'll evalue the model accuracy using built-in functions from the **scikit** library."
   ]
  },
  {
   "cell_type": "code",
   "execution_count": 24,
   "id": "156dd789",
   "metadata": {},
   "outputs": [
    {
     "name": "stdout",
     "output_type": "stream",
     "text": [
      "Accuracy Score : 0.985\n",
      "F-Measure: 0.984\n"
     ]
    },
    {
     "data": {
      "image/png": "[encoded data removed]",
      "text/plain": [
       "<Figure size 432x288 with 2 Axes>"
      ]
     },
     "metadata": {
      "needs_background": "light"
     },
     "output_type": "display_data"
    }
   ],
   "source": [
    "labels = sv_classifier.predict(features_test_transformed_rs)\n",
    "actual = y_test_rs.tolist()\n",
    "score_2 = f1_score(actual, labels, average = 'binary')\n",
    "\n",
    "print ('Accuracy Score :',accuracy_score(actual, labels))\n",
    "print('F-Measure: %.3f' % score_2)\n",
    "\n",
    "\n",
    "clf_report = classification_report(actual, labels, output_dict=True)\n",
    "sns.heatmap(pd.DataFrame(clf_report).iloc[:-1, :].T, annot=True, cmap=\"GnBu\", vmin=0.70, vmax=1)\n",
    "None"
   ]
  },
  {
   "cell_type": "markdown",
   "id": "ba315224",
   "metadata": {},
   "source": [
    "# Classifying spam in emails using a Gradient Boosting\n",
    "\n",
    "According to the Scikit-Learn documentation,\n",
    "\n",
    "> Gradient Tree Boosting or Gradient Boosted Decision Trees (GBDT) is a generalization of boosting to arbitrary differentiable loss functions. GBDT is an accurate and effective off-the-shelf procedure that can be used for both regression and classification problems in a variety of areas including Web search ranking and ecology."
   ]
  },
  {
   "cell_type": "markdown",
   "id": "65bee973",
   "metadata": {},
   "source": [
    "beautiful text about gradient boosting\n",
    "\n",
    "https://scikit-learn.org/stable/modules/ensemble.html#gradient-boosting"
   ]
  },
  {
   "cell_type": "markdown",
   "id": "403d7c00",
   "metadata": {},
   "source": [
    "### Obtaining the Best Set of Hyperparameters\n",
    "\n",
    "We'll fit the **scikit-learning**,  *RandomForestClassifier* model,  to our *TF-IDF* vector version of x_train, and the true output labels stored in y_train. Since we are dealing with the same dataframe multiple times we'll use the same vector of extracted features from the dataframe with resampling done in the last step.\n",
    "\n",
    "To obtain better results since the *Random Forest* has multiple hyper-parameters we will use the *RandomizedSearchCV* module so to obtain the best set of hyperparameters."
   ]
  },
  {
   "cell_type": "code",
   "execution_count": 25,
   "id": "f71af831",
   "metadata": {},
   "outputs": [
    {
     "name": "stdout",
     "output_type": "stream",
     "text": [
      "Calculating best set of HP...\n"
     ]
    },
    {
     "name": "stderr",
     "output_type": "stream",
     "text": [
      "C:\\Users\\ritar\\AppData\\Local\\Packages\\PythonSoftwareFoundation.Python.3.7_qbz5n2kfra8p0\\LocalCache\\local-packages\\Python37\\site-packages\\sklearn\\model_selection\\_validation.py:372: FitFailedWarning: \n",
      "20 fits failed out of a total of 50.\n",
      "The score on these train-test partitions for these parameters will be set to nan.\n",
      "If these failures are not expected, you can try to debug them by setting error_score='raise'.\n",
      "\n",
      "Below are more details about the failures:\n",
      "--------------------------------------------------------------------------------\n",
      "20 fits failed with the following error:\n",
      "Traceback (most recent call last):\n",
      "  File \"C:\\Users\\ritar\\AppData\\Local\\Packages\\PythonSoftwareFoundation.Python.3.7_qbz5n2kfra8p0\\LocalCache\\local-packages\\Python37\\site-packages\\sklearn\\model_selection\\_validation.py\", line 680, in _fit_and_score\n",
      "    estimator.fit(X_train, y_train, **fit_params)\n",
      "  File \"C:\\Users\\ritar\\AppData\\Local\\Packages\\PythonSoftwareFoundation.Python.3.7_qbz5n2kfra8p0\\LocalCache\\local-packages\\Python37\\site-packages\\sklearn\\ensemble\\_gb.py\", line 596, in fit\n",
      "    monitor,\n",
      "  File \"C:\\Users\\ritar\\AppData\\Local\\Packages\\PythonSoftwareFoundation.Python.3.7_qbz5n2kfra8p0\\LocalCache\\local-packages\\Python37\\site-packages\\sklearn\\ensemble\\_gb.py\", line 672, in _fit_stages\n",
      "    X_csr,\n",
      "  File \"C:\\Users\\ritar\\AppData\\Local\\Packages\\PythonSoftwareFoundation.Python.3.7_qbz5n2kfra8p0\\LocalCache\\local-packages\\Python37\\site-packages\\sklearn\\ensemble\\_gb.py\", line 246, in _fit_stage\n",
      "    tree.fit(X, residual, sample_weight=sample_weight, check_input=False)\n",
      "  File \"C:\\Users\\ritar\\AppData\\Local\\Packages\\PythonSoftwareFoundation.Python.3.7_qbz5n2kfra8p0\\LocalCache\\local-packages\\Python37\\site-packages\\sklearn\\tree\\_classes.py\", line 1320, in fit\n",
      "    X_idx_sorted=X_idx_sorted,\n",
      "  File \"C:\\Users\\ritar\\AppData\\Local\\Packages\\PythonSoftwareFoundation.Python.3.7_qbz5n2kfra8p0\\LocalCache\\local-packages\\Python37\\site-packages\\sklearn\\tree\\_classes.py\", line 254, in fit\n",
      "    % self.min_samples_split\n",
      "ValueError: min_samples_split must be an integer greater than 1 or a float in (0.0, 1.0]; got the integer 1\n",
      "\n",
      "  warnings.warn(some_fits_failed_message, FitFailedWarning)\n",
      "C:\\Users\\ritar\\AppData\\Local\\Packages\\PythonSoftwareFoundation.Python.3.7_qbz5n2kfra8p0\\LocalCache\\local-packages\\Python37\\site-packages\\sklearn\\model_selection\\_search.py:972: UserWarning: One or more of the test scores are non-finite: [0.95454854 0.93244433        nan        nan        nan 0.9462039\n",
      " 0.95538274 0.95746781 0.93369433        nan]\n",
      "  category=UserWarning,\n"
     ]
    },
    {
     "name": "stdout",
     "output_type": "stream",
     "text": [
      "Best Score:  0.9574678148921365\n",
      "Best Params:  {'n_estimators': 200, 'min_samples_split': 5, 'min_samples_leaf': 7, 'max_depth': 3, 'loss': 'deviance', 'criterion': 'friedman_mse'}\n"
     ]
    }
   ],
   "source": [
    "if os.path.isfile(\"./data/gradient_boosting_hp.txt\"):\n",
    "    \n",
    "    print(\"Best set of HP has already been calculated:\")\n",
    "    with open(\"./data/gradient_boosting_hp.txt\") as f:\n",
    "        data = f.read()\n",
    "\n",
    "    best_p = json.loads(data)\n",
    "\n",
    "else:\n",
    "    \n",
    "    print(\"Calculating best set of HP...\")\n",
    "    gb_classifier = GradientBoostingClassifier()\n",
    "\n",
    "    rsearch = RandomizedSearchCV(gb_classifier, grad_boosting_hp)\n",
    "    search = rsearch.fit(features_train_transformed_rs, y_train_rs)\n",
    "\n",
    "    gb_classifier.fit(features_train_transformed_rs, y_train_rs)\n",
    "\n",
    "    best_p, best_s = search.best_params_, search.best_score_\n",
    "    \n",
    "    with open(\"./data/gradient_boosting_hp.txt\", 'w') as convert_file:\n",
    "     convert_file.write(json.dumps(best_p))\n",
    "    \n",
    "    print('Best Score: ', best_s)\n",
    "print ('Best Params: ', best_p)\n"
   ]
  },
  {
   "cell_type": "markdown",
   "id": "403c69fa",
   "metadata": {},
   "source": [
    "### Training our Classifier\n",
    "\n",
    "Using the dictionary of best set of hyper-parameters obtained on the previous step we will train our optimal model."
   ]
  },
  {
   "cell_type": "code",
   "execution_count": 26,
   "id": "6e547871",
   "metadata": {},
   "outputs": [
    {
     "data": {
      "text/plain": [
       "GradientBoostingClassifier(min_samples_leaf=7, min_samples_split=5,\n",
       "                           n_estimators=200)"
      ]
     },
     "execution_count": 26,
     "metadata": {},
     "output_type": "execute_result"
    }
   ],
   "source": [
    "gb_classifier = GradientBoostingClassifier(loss = best_p['loss'], \n",
    "                                      n_estimators = best_p['n_estimators'], \n",
    "                                      criterion = best_p['criterion'], \n",
    "                                      max_depth = best_p['max_depth'], \n",
    "                                      min_samples_split = best_p['min_samples_split'], \n",
    "                                      min_samples_leaf = best_p['min_samples_leaf'])\n",
    "\n",
    "gb_classifier.fit(features_train_transformed_rs, y_train_rs)"
   ]
  },
  {
   "cell_type": "markdown",
   "id": "9cd6ae32",
   "metadata": {},
   "source": [
    "### Measuring Accuracy \n",
    "\n",
    "Finally, using our test sets we'll evalue the model accuracy using built-in functions from the **scikit** library."
   ]
  },
  {
   "cell_type": "code",
   "execution_count": 27,
   "id": "fe132267",
   "metadata": {},
   "outputs": [
    {
     "name": "stdout",
     "output_type": "stream",
     "text": [
      "Accuracy Score : 0.955\n",
      "F-Measure: 0.955\n"
     ]
    },
    {
     "data": {
      "image/png": "[encoded data removed]",
      "text/plain": [
       "<Figure size 432x288 with 2 Axes>"
      ]
     },
     "metadata": {
      "needs_background": "light"
     },
     "output_type": "display_data"
    }
   ],
   "source": [
    "labels = gb_classifier.predict(features_test_transformed_rs)\n",
    "actual = y_test_rs.tolist()\n",
    "score_2 = f1_score(actual, labels, average = 'binary')\n",
    "\n",
    "print ('Accuracy Score :',accuracy_score(actual, labels))\n",
    "print('F-Measure: %.3f' % score_2)\n",
    "\n",
    "\n",
    "clf_report = classification_report(actual, labels, output_dict=True)\n",
    "sns.heatmap(pd.DataFrame(clf_report).iloc[:-1, :].T, annot=True, cmap=\"GnBu\", vmin=0.70, vmax=1)\n",
    "None"
   ]
  }
 ],
 "metadata": {
  "kernelspec": {
   "display_name": "Python 3 (ipykernel)",
   "language": "python",
   "name": "python3"
  },
  "language_info": {
   "codemirror_mode": {
    "name": "ipython",
    "version": 3
   },
   "file_extension": ".py",
   "mimetype": "text/x-python",
   "name": "python",
   "nbconvert_exporter": "python",
   "pygments_lexer": "ipython3",
   "version": "3.7.9"
  }
 },
 "nbformat": 4,
 "nbformat_minor": 5
}
