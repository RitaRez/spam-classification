{
 "cells": [
  {
   "cell_type": "markdown",
   "id": "6ccb2571",
   "metadata": {},
   "source": [
    "# Multiple Methods for Spam Classification\n",
    "---\n",
    "Rita Rezende Borges de Lima <br>\n",
    "DCC - UFMG"
   ]
  },
  {
   "cell_type": "markdown",
   "id": "4c588fed",
   "metadata": {
    "heading_collapsed": true
   },
   "source": [
    "# Main Goals\n",
    "In this assignment the objective is to **classify spam emails** through **various algorithms** such as *Naive Bayes Classification*, *Support Vector Machines*, *Random Forrest Classifier*, *Gradient Boost* and a *Recurrent Neural Network* so to **compare** using cross-validation the **accuracy of the models** on the given task. My hypotheses are that the best results will be obtained through the Neural Net. "
   ]
  },
  {
   "cell_type": "markdown",
   "id": "4b413b02",
   "metadata": {
    "hidden": true
   },
   "source": [
    "## Libraries\n",
    "\n",
    "Several python modules we're needed. The module *Pandas* was used for handling the data frames, *re* and multiple *NLTK* modules we're used for data preprocessing, *Seaborn* was used to improve report visualization, *Scikit-learn* was used to extract features and for its classifiers."
   ]
  },
  {
   "cell_type": "code",
   "execution_count": 45,
   "id": "2b9b3f63",
   "metadata": {
    "hidden": true
   },
   "outputs": [
    {
     "name": "stderr",
     "output_type": "stream",
     "text": [
      "[nltk_data] Downloading package wordnet to\n",
      "[nltk_data]     C:\\Users\\ritar\\AppData\\Roaming\\nltk_data...\n",
      "[nltk_data]   Package wordnet is already up-to-date!\n",
      "[nltk_data] Downloading package averaged_perceptron_tagger to\n",
      "[nltk_data]     C:\\Users\\ritar\\AppData\\Roaming\\nltk_data...\n",
      "[nltk_data]   Package averaged_perceptron_tagger is already up-to-\n",
      "[nltk_data]       date!\n"
     ]
    }
   ],
   "source": [
    "import nltk, re, json, os\n",
    "\n",
    "import tensorflow as tf\n",
    "import pandas as pd\n",
    "import numpy as np\n",
    "import seaborn as sns\n",
    "import matplotlib.pyplot as plt\n",
    "\n",
    "from IPython.core.display import display, HTML\n",
    "from gensim.parsing.preprocessing import remove_stopwords\n",
    "from string import punctuation\n",
    "from nltk.stem import WordNetLemmatizer, SnowballStemmer\n",
    "from nltk import pos_tag\n",
    "from nltk.tokenize import word_tokenize\n",
    "\n",
    "from data.input_data.contractions import contractionsdict\n",
    "contractions_re=re.compile('(%s)' % '|'.join(contractionsdict.keys()))\n",
    "\n",
    "from data.input_data.hyperparams import random_forest_hp, svm_hp, grad_boosting_hp\n",
    "\n",
    "\n",
    "nltk.download('wordnet')\n",
    "nltk.download('averaged_perceptron_tagger')\n",
    "snowball = SnowballStemmer(language='english')\n",
    "wnl = WordNetLemmatizer()\n",
    "\n",
    "from sklearn.naive_bayes import MultinomialNB, ComplementNB\n",
    "from sklearn.ensemble import RandomForestClassifier, GradientBoostingClassifier \n",
    "from sklearn.svm import SVC\n",
    "\n",
    "from keras.layers import Dense, Input, LSTM, Embedding, Dropout, Activation, Bidirectional\n",
    "from keras.models import Model, load_model\n",
    "from keras.preprocessing.text import Tokenizer\n",
    "from keras.preprocessing.sequence import pad_sequences\n",
    "\n",
    "\n",
    "from sklearn.preprocessing import LabelEncoder\n",
    "from sklearn.metrics import f1_score, confusion_matrix, accuracy_score, classification_report, precision_score, recall_score\n",
    "\n",
    "from sklearn.utils import resample\n",
    "from sklearn.model_selection import RandomizedSearchCV, train_test_split, KFold\n",
    "from sklearn.feature_extraction.text import TfidfVectorizer\n"
   ]
  },
  {
   "cell_type": "markdown",
   "id": "7ae3a34e",
   "metadata": {
    "heading_collapsed": true
   },
   "source": [
    "# Data Preprocessing\n",
    "\n",
    "For this assignment, I used the [Spam Mails Dataset](https://www.kaggle.com/venky73/spam-mails-dataset) found on kaggle, which was retrieved from [Enron Spam](http://www2.aueb.gr/users/ion/data/enron-spam/). **The data frame consists of** three columns, **a textual label** (ham or spam), **the text on the email** and a **boolean label** (0 or 1) . To achieve better results, **the textual data**, which consists of several e-mails that were either considered legit or spam, **was filtered through various process** such as lowercasing, expanding contractions, stopword, punctuation and noise removal and stemming. "
   ]
  },
  {
   "cell_type": "markdown",
   "id": "768bae4c",
   "metadata": {
    "hidden": true
   },
   "source": [
    "### The used dataframe:\n",
    "In order to be able to compare the processed data with the original one we'll make a copy!"
   ]
  },
  {
   "cell_type": "code",
   "execution_count": null,
   "id": "212afd72",
   "metadata": {
    "hidden": true
   },
   "outputs": [],
   "source": [
    "df = pd.read_csv(\"./data/input_data/spam_ham.csv\")\n",
    "cleaned_df = df.copy()\n",
    "cleaned_df.head()"
   ]
  },
  {
   "cell_type": "markdown",
   "id": "c03a079b",
   "metadata": {
    "hidden": true
   },
   "source": [
    "### An exemple of a legit email and an exemple of spam:"
   ]
  },
  {
   "cell_type": "code",
   "execution_count": null,
   "id": "9bccf86a",
   "metadata": {
    "hidden": true
   },
   "outputs": [],
   "source": [
    "ham = df[df['label_num'] == 0]\n",
    "display(HTML(\"<b>Legit Email:</b>\"))\n",
    "display(HTML(ham.iloc[0]['text']))\n",
    "\n",
    "display(HTML(\"<b>Spam:</b>\"))\n",
    "spam = df[df['label_num'] == 1]\n",
    "display(HTML(spam.iloc[1]['text']))"
   ]
  },
  {
   "cell_type": "markdown",
   "id": "77afef30",
   "metadata": {
    "hidden": true
   },
   "source": [
    "### Lowercasing\n",
    "\n",
    "All text will be lower case, so our models won't differ in identical words with different spelling."
   ]
  },
  {
   "cell_type": "code",
   "execution_count": null,
   "id": "52cf83ba",
   "metadata": {
    "hidden": true
   },
   "outputs": [],
   "source": [
    "example_number = 4\n",
    "\n",
    "cleaned_df['text'] = cleaned_df['text'].apply(lambda x:x.lower())\n",
    "cleaned_df['text'][example_number]"
   ]
  },
  {
   "cell_type": "markdown",
   "id": "622c84b2",
   "metadata": {
    "hidden": true
   },
   "source": [
    "### Expanding contractions\n",
    "To have a cleaner text we'll transform contractions (which are quite common in legit emails and spam) in full words. <br>\n",
    "*Example:* we'll -> we will"
   ]
  },
  {
   "cell_type": "code",
   "execution_count": null,
   "id": "5969061a",
   "metadata": {
    "hidden": true
   },
   "outputs": [],
   "source": [
    "def expand_contractions(text,contractionsdict=contractionsdict):\n",
    "    def replace(match):\n",
    "        return contractionsdict[match.group(0)]\n",
    "    return contractions_re.sub(replace, text)\n",
    "\n",
    "cleaned_df['text'] = cleaned_df['text'].apply(lambda x:expand_contractions(x))\n",
    "cleaned_df['text'][example_number]"
   ]
  },
  {
   "cell_type": "markdown",
   "id": "d08e4283",
   "metadata": {
    "hidden": true
   },
   "source": [
    "### Removing Noise,  Punctuation and Stopwords\n",
    "Numbers, non-ascii characters and HTML markups are also removed."
   ]
  },
  {
   "cell_type": "code",
   "execution_count": null,
   "id": "818b6981",
   "metadata": {
    "hidden": true
   },
   "outputs": [],
   "source": [
    "def text_cleaning(email):\n",
    "    email=re.sub(\"(<.*?>)\",\"\",email)             # remove html markup\n",
    "    email=re.sub(\"(\\r\\n)|(\\r)|(\\n)\",\" \",email)\n",
    "    email=re.sub(\"[^A-Za-z ]\",\"\",email)          #remove non-ascii and digits\n",
    "    email=re.sub(' +', ' ', email)               #remove extra whitespaces\n",
    "    return email\n",
    "\n",
    "cleaned_df['text'] = cleaned_df['text'].apply(lambda x:text_cleaning(x))\n",
    "cleaned_df['text'] = cleaned_df['text'].apply(lambda x:x.translate(str.maketrans('', '', punctuation)))\n",
    "cleaned_df['text'] = cleaned_df['text'].apply(lambda x:remove_stopwords(x))\n",
    "\n",
    "cleaned_df['text'][example_number]"
   ]
  },
  {
   "cell_type": "markdown",
   "id": "a617810b",
   "metadata": {
    "hidden": true
   },
   "source": [
    "### Stemming\n",
    "To improve results we can group together the inflected forms of a word so they can be analysed as a single item, identified by its root."
   ]
  },
  {
   "cell_type": "code",
   "execution_count": null,
   "id": "3aa388ea",
   "metadata": {
    "hidden": true
   },
   "outputs": [],
   "source": [
    "def stem_texts(email):  \n",
    "    return (\" \").join([snowball.stem(word) for word in word_tokenize(email)])\n",
    "    \n",
    "cleaned_df['text'] = cleaned_df['text'].apply(lambda x:stem_texts(x))\n",
    "cleaned_df['text'][example_number]"
   ]
  },
  {
   "cell_type": "markdown",
   "id": "d1b25581",
   "metadata": {
    "hidden": true
   },
   "source": [
    "### Saving the preprocessed dataframe\n",
    "The data will be saved in a file, *preprocessed_spam_ham*, so all our models can use it!"
   ]
  },
  {
   "cell_type": "code",
   "execution_count": null,
   "id": "6f31d1a7",
   "metadata": {
    "hidden": true
   },
   "outputs": [],
   "source": [
    "cleaned_df.to_csv(\"./data/input_data/preprocessed_spam_ham.csv\")"
   ]
  },
  {
   "cell_type": "markdown",
   "id": "655aa447",
   "metadata": {
    "heading_collapsed": true
   },
   "source": [
    "# Classifying spam in emails using Naive Bayes Methods\n",
    "\n",
    "According to the Scikit-Learn documentation, \n",
    "\n",
    "> Naive Bayes methods are a set of supervised learning algorithms based on applying Bayes’ theorem with the \"naive\" assumption of conditional independence between every pair of features given the value of the class variable. "
   ]
  },
  {
   "cell_type": "markdown",
   "id": "4cec2b50",
   "metadata": {
    "hidden": true
   },
   "source": [
    "The Naive Bayes' Theorem finds the probability of an event occurring given the probability of another event that has already occurred.\n",
    "\n",
    "So given a class variable *Y* and a dependent feature vector *X*<sub>1</sub>... *X*<sub>n</sub>:\n",
    "\n",
    "![image.png](./images/bayes_theorem.png)\n",
    "\n",
    "Assuming conditional independence such that:\n",
    "\n",
    "![image.png](./images/assumption.png)\n",
    "\n",
    "For all *i* this relationship is simplified to\n",
    "\n",
    "![image.png](./images/simplification.png)\n",
    "\n",
    "Since *P(X*<sub>1</sub>,..., *X*<sub>N</sub>*)* is constant for each input, the following classification rule is valid:\n",
    "\n",
    "![image.png](./images/classification.png)"
   ]
  },
  {
   "cell_type": "markdown",
   "id": "c13d9319",
   "metadata": {
    "hidden": true
   },
   "source": [
    "## Exploratory Data Analysis\n",
    "\n",
    "As seen below **there are way more legit emails than spam**, to handle with the imbalanced dataset **we're going to resample it** so to use it in the *Multinomial Naive Bayes*, and we're also going to use the *Complement Naive Bayes*, which is particularly suited for imbalanced data sets."
   ]
  },
  {
   "cell_type": "code",
   "execution_count": null,
   "id": "9f438f77",
   "metadata": {
    "hidden": true
   },
   "outputs": [],
   "source": [
    "df = pd.read_csv(\"./data/input_data/preprocessed_spam_ham.csv\")\n",
    "\n",
    "df_spam = df[df['label']=='spam']\n",
    "df_ham = df[df['label']=='ham']\n",
    "\n",
    "print('Amount of hams: ', len(df_ham),' Amount of spams: ', len(df_spam))"
   ]
  },
  {
   "cell_type": "markdown",
   "id": "98ecae2d",
   "metadata": {
    "hidden": true
   },
   "source": [
    "## Multinomial Naive Bayes and Resampling data\n",
    "Through the function *resample* in the **scikit-learn** module, observations in the larger class (hams) will be randomly removed to prevent its signal from dominating the learning algorithm."
   ]
  },
  {
   "cell_type": "code",
   "execution_count": null,
   "id": "014a7632",
   "metadata": {
    "hidden": true
   },
   "outputs": [],
   "source": [
    "df_ham_downsampled = resample(df_ham, replace=False, n_samples=len(df_spam), random_state=42)\n",
    "resampled_df = pd.concat([df_ham_downsampled, df_spam])"
   ]
  },
  {
   "cell_type": "markdown",
   "id": "c6e04cb5",
   "metadata": {
    "hidden": true
   },
   "source": [
    "### Train and Test Split \n",
    "\n",
    "Through the function *train_test_split* in the **scikit-learn** module, we will split the data frame in proportions 20-80."
   ]
  },
  {
   "cell_type": "code",
   "execution_count": null,
   "id": "a43c1b0d",
   "metadata": {
    "hidden": true
   },
   "outputs": [],
   "source": [
    "x_train_rs, x_test_rs, y_train_rs, y_test_rs = train_test_split(resampled_df['text'], resampled_df['label_num'], test_size = 0.2, random_state = 42)"
   ]
  },
  {
   "cell_type": "markdown",
   "id": "5bad9305",
   "metadata": {
    "hidden": true
   },
   "source": [
    "### Feature Extraction\n",
    "\n",
    "We are going to use the function *TfidfVectorizer* from the **scikit-learn** module to extract features."
   ]
  },
  {
   "cell_type": "code",
   "execution_count": null,
   "id": "df6f55cf",
   "metadata": {
    "hidden": true
   },
   "outputs": [],
   "source": [
    "vectorizer_rs = TfidfVectorizer()\n",
    "features_train_transformed_rs = vectorizer_rs.fit_transform(x_train_rs.tolist()) \n",
    "features_test_transformed_rs  = vectorizer_rs.transform(x_test_rs)\n",
    "\n",
    "actual = y_test_rs.tolist()"
   ]
  },
  {
   "cell_type": "markdown",
   "id": "93ea1f43",
   "metadata": {
    "hidden": true
   },
   "source": [
    "### Train our Naive Bayes Model\n",
    "\n",
    "We'll fit the *Naive Bayes* model, the *MultinomialNB* function, to our *TF-IDF* vector version of x_train, and the true output labels stored in y_train."
   ]
  },
  {
   "cell_type": "code",
   "execution_count": null,
   "id": "d248ac41",
   "metadata": {
    "hidden": true
   },
   "outputs": [],
   "source": [
    "classifier = MultinomialNB()\n",
    "classifier.fit(features_train_transformed_rs, y_train_rs)\n",
    "\n",
    "labels = classifier.predict(features_test_transformed_rs)"
   ]
  },
  {
   "cell_type": "markdown",
   "id": "2622add8",
   "metadata": {
    "hidden": true
   },
   "source": [
    "### Measuring Accuracy \n",
    "\n",
    "Finally, using our test sets, we'll evaluate the model accuracy using built-in functions from the **scikit** library."
   ]
  },
  {
   "cell_type": "code",
   "execution_count": null,
   "id": "9ab36e20",
   "metadata": {
    "hidden": true
   },
   "outputs": [],
   "source": [
    "general_scores = pd.DataFrame({'Method': ['Multinomial Naive Bayes'], 'Accuracy': [accuracy_score(actual, labels)], \n",
    "                'F-measure': [f1_score(actual, labels, average = 'binary')], 'Recall': [recall_score(actual, labels)],\n",
    "                'Precision': [precision_score(actual, labels)] }) \n",
    "\n",
    "\n",
    "general_scores.to_csv(\"./data/scores/general.csv\", index=False)\n",
    "\n",
    "display(HTML(f'<b>Accuracy: </b> {accuracy_score(actual, labels)}'))\n",
    "display(HTML(f'<b>F-measure: </b> {f1_score(actual, labels, average = \"binary\")}'))   \n",
    "display(HTML(f'<b>Recall: </b> {recall_score(actual, labels)}'))\n",
    "display(HTML(f'<b>Precision: </b> {precision_score(actual, labels)}'))"
   ]
  },
  {
   "cell_type": "markdown",
   "id": "1d3ade8e",
   "metadata": {
    "hidden": true
   },
   "source": [
    "## Complement Naive Bayes"
   ]
  },
  {
   "cell_type": "markdown",
   "id": "8331290e",
   "metadata": {
    "hidden": true
   },
   "source": [
    "### Train and Test Split \n",
    "\n",
    "Through the function *train_test_split* in the **scikit-learn** module, we will split the data frame in proportions 20-80."
   ]
  },
  {
   "cell_type": "code",
   "execution_count": null,
   "id": "c41f7f60",
   "metadata": {
    "hidden": true
   },
   "outputs": [],
   "source": [
    "x_train, x_test, y_train, y_test = train_test_split(df['text'], df['label_num'], test_size = 0.2, random_state = 42)"
   ]
  },
  {
   "cell_type": "markdown",
   "id": "11198350",
   "metadata": {
    "hidden": true
   },
   "source": [
    "### Feature Extraction\n",
    "\n",
    "We are going to use the function *TfidfVectorizer* from the **scikit-learn** module to extract features."
   ]
  },
  {
   "cell_type": "code",
   "execution_count": null,
   "id": "99f482a0",
   "metadata": {
    "hidden": true
   },
   "outputs": [],
   "source": [
    "vectorizer = TfidfVectorizer()\n",
    "features_train_transformed = vectorizer.fit_transform(x_train.tolist()) #gives tf idf vector for x_train\n",
    "features_test_transformed  = vectorizer.transform(x_test) #gives tf idf vector for x_test\n",
    "\n",
    "actual = y_test.tolist()"
   ]
  },
  {
   "cell_type": "markdown",
   "id": "1e0e46e9",
   "metadata": {
    "hidden": true
   },
   "source": [
    "### Train our Naive Bayes Model\n",
    "\n",
    "We'll fit the **scikit-learning** *Naive Bayes* model, the *ComplementNB* function, to our *TF-IDF* vector version of x_train, and the true output labels stored in y_train."
   ]
  },
  {
   "cell_type": "code",
   "execution_count": null,
   "id": "bdf00cad",
   "metadata": {
    "hidden": true
   },
   "outputs": [],
   "source": [
    "classifier = ComplementNB()\n",
    "classifier.fit(features_train_transformed, y_train)\n",
    "labels = classifier.predict(features_test_transformed)"
   ]
  },
  {
   "cell_type": "markdown",
   "id": "d996cede",
   "metadata": {
    "hidden": true
   },
   "source": [
    "### Measuring Accuracy \n",
    "\n",
    "Finally, using our test sets we'll evalue the model accuracy using built-in functions from the **scikit** library.### Measuring Accuracy "
   ]
  },
  {
   "cell_type": "code",
   "execution_count": null,
   "id": "2259a5ee",
   "metadata": {
    "hidden": true
   },
   "outputs": [],
   "source": [
    "general_scores = pd.read_csv(\"./data/scores/general.csv\")\n",
    "\n",
    "ap = pd.DataFrame({'Method': ['Complement Naive Bayes'], 'Accuracy': [accuracy_score(actual, labels)], \n",
    "                'F-measure': [f1_score(actual, labels, average = 'binary')], 'Recall': [recall_score(actual, labels)],\n",
    "                'Precision': [precision_score(actual, labels)] }) \n",
    "\n",
    "\n",
    "general_scores = general_scores.append(ap, ignore_index = True)\n",
    "general_scores.to_csv(\"./data/scores/general.csv\", index=False)\n",
    "\n",
    "display(HTML(f'<b>Accuracy: </b> {accuracy_score(actual, labels)}'))\n",
    "display(HTML(f'<b>F-measure: </b> {f1_score(actual, labels, average = \"binary\")}'))   \n",
    "display(HTML(f'<b>Recall: </b> {recall_score(actual, labels)}'))\n",
    "display(HTML(f'<b>Precision: </b> {precision_score(actual, labels)}'))"
   ]
  },
  {
   "cell_type": "markdown",
   "id": "774ce37d",
   "metadata": {
    "heading_collapsed": true
   },
   "source": [
    "# Classifying spam in emails using a Random Forest Classifier.\n",
    "\n",
    "According to the Scikit-Learn documentation, \n",
    "\n",
    "> A random forest is a meta estimator that fits a number of decision tree classifiers on various sub-samples of the dataset and uses averaging to improve the predictive accuracy and control over-fitting."
   ]
  },
  {
   "cell_type": "markdown",
   "id": "516ee703",
   "metadata": {
    "hidden": true
   },
   "source": [
    "**Decision trees are a component of a random forest algorithm**. The former is **a technique that forms a tree-like structure** that consists of three components: decision nodes, leaf nodes, and a root node. In the algorithm, we **divide the input dataset into branches**, which recursively segregate into other branches **until a leaf node is attained**. The **nodes** in the decision tree **represent attributes that are used for predicting the outcome**.  \n",
    "\n",
    "The main difference between the decision tree algorithm and the random forest algorithm is that establishing root nodes and segregating nodes is done randomly in the latter. The **random forest employs the bagging method** to generate the required prediction. Bagging **involves using different samples of data** (training data) rather than just one sample. A training dataset comprises observations and features that are used for making predictions. The decision trees produce different outputs, depending on the training data fed to the random forest algorithm. These **outputs will be ranked, and the highest will be selected** as the final output."
   ]
  },
  {
   "cell_type": "markdown",
   "id": "a67b2097",
   "metadata": {
    "hidden": true
   },
   "source": [
    "### Feature Extraction\n",
    "\n",
    "We are going to use the function *TfidfVectorizer* from the **scikit-learn** module to extract features. Since we are dealing with the same data frame multiple times, we'll use the same resampling done in the last step."
   ]
  },
  {
   "cell_type": "code",
   "execution_count": null,
   "id": "64ce20f0",
   "metadata": {
    "hidden": true
   },
   "outputs": [],
   "source": [
    "x_rs, y_rs = resampled_df['text'], resampled_df['label_num']\n",
    "\n",
    "vectorizer_rs = TfidfVectorizer()\n",
    "features_transformed_rs = vectorizer_rs.fit_transform(x_rs.tolist()) \n",
    "actual = y_rs.tolist()"
   ]
  },
  {
   "cell_type": "markdown",
   "id": "3d160919",
   "metadata": {
    "hidden": true
   },
   "source": [
    "### Obtaining the Best Set of Hyperparameters\n",
    "\n",
    "We'll fit the *RandomForestClassifier* model,  to our *TF-IDF* vector , and the true output labels stored in y. To obtain better results since the *Random Forest* has multiple hyperparameters, we will use the *RandomizedSearchCV* module, we will also make use of the built-in (Stratified)KFold with 5 folds so the have a better measure of accuracy. "
   ]
  },
  {
   "cell_type": "code",
   "execution_count": null,
   "id": "2e6b0fa4",
   "metadata": {
    "hidden": true
   },
   "outputs": [],
   "source": [
    "def train_model(classifier, hp, filename):\n",
    "\n",
    "    rsearch = RandomizedSearchCV(estimator = classifier, param_distributions = hp, \n",
    "                                 scoring = ['precision', 'recall', 'f1', 'accuracy'], refit = 'f1', cv = 5)\n",
    "    \n",
    "    search = rsearch.fit(features_transformed_rs, y_rs)\n",
    "    classifier.fit(features_transformed_rs, y_rs)\n",
    "\n",
    "    best_p = search.best_params_\n",
    "    results = pd.DataFrame.from_dict(search.cv_results_)\n",
    "    \n",
    "    with open(\"./data/calculated_hyperparameters/{}_hp.txt\".format(filename), 'w') as convert_file:\n",
    "        convert_file.write(json.dumps(best_p))\n",
    "    \n",
    "    results.to_csv(\"./data/scores/{}.csv\".format(filename))"
   ]
  },
  {
   "cell_type": "markdown",
   "id": "e39ba963",
   "metadata": {
    "hidden": true
   },
   "source": [
    "### Training our Classifier\n",
    "\n",
    "Checking if we have calculated the best set of hiperparameters and best score, we can check if we havent trained our model yet, and if thats the case we will train it! "
   ]
  },
  {
   "cell_type": "code",
   "execution_count": null,
   "id": "0687b705",
   "metadata": {
    "hidden": true
   },
   "outputs": [],
   "source": [
    "if not os.path.isfile(\"./data/calculated_hyperparameters/random_forest_hp.txt\"):\n",
    "    \n",
    "    print(\"Calculating best set of HP...\")\n",
    "    classifier = RandomForestClassifier()\n",
    "    train_model(classifier, random_forest_hp, \"random_forest\")"
   ]
  },
  {
   "cell_type": "markdown",
   "id": "6af6b75a",
   "metadata": {
    "hidden": true
   },
   "source": [
    "### Measuring Accuracy \n",
    "\n",
    "Finally, using our test sets, we'll evaluate the model accuracy using built-in functions from the **scikit** library."
   ]
  },
  {
   "cell_type": "code",
   "execution_count": null,
   "id": "41fd0309",
   "metadata": {
    "hidden": true
   },
   "outputs": [],
   "source": [
    "scores = pd.read_csv(\"./data/scores/random_forest.csv\")\n",
    "best_acc = scores[scores['rank_test_accuracy'] == 1]\n",
    "\n",
    "general_scores = pd.read_csv(\"./data/scores/general.csv\")\n",
    "\n",
    "ap = pd.DataFrame({'Method': 'Random Forrest', 'Accuracy': best_acc[\"mean_test_accuracy\"].values, \n",
    "      'F-measure': best_acc[\"mean_test_f1\"].values, 'Recall': best_acc[\"mean_test_recall\"].values,\n",
    "      'Precision': best_acc[\"mean_test_precision\"].values}) \n",
    "\n",
    "\n",
    "general_scores = general_scores.append(ap, ignore_index=True)\n",
    "general_scores.to_csv(\"./data/scores/general.csv\", index=False)\n",
    "\n",
    "display(HTML(f'<b>Accuracy: </b> {best_acc[\"mean_test_accuracy\"].values[0]} (+- {best_acc[\"std_test_accuracy\"].values[0]} )'))\n",
    "display(HTML(f'<b>F-measure: </b> {best_acc[\"mean_test_f1\"].values[0]} (+- {best_acc[\"std_test_f1\"].values[0]} )'))\n",
    "display(HTML(f'<b>Recall: </b> {best_acc[\"mean_test_recall\"].values[0]} (+- {best_acc[\"std_test_recall\"].values[0]} )'))\n",
    "display(HTML(f'<b>Precision: </b> {best_acc[\"mean_test_precision\"].values[0]} (+- {best_acc[\"std_test_precision\"].values[0]} )'))"
   ]
  },
  {
   "cell_type": "markdown",
   "id": "5881ed10",
   "metadata": {
    "heading_collapsed": true
   },
   "source": [
    "# Classifying spam in emails using a Support Vector Machine\n",
    "\n",
    "According to the Scikit-Learn documentation, \n",
    "\n",
    "> A support vector machine constructs a hyper-plane or set of hyper-planes in a high or infinite dimensional space, which can be used for classification, regression or other tasks. Intuitively, a good separation is achieved by the hyper-plane that has the largest distance to the nearest training data points of any class (so-called functional margin), since in general the larger the margin the lower the generalization error of the classifier."
   ]
  },
  {
   "cell_type": "markdown",
   "id": "4dcdbd66",
   "metadata": {
    "hidden": true
   },
   "source": [
    "In the Support Vector Machine, the **data will be categorized in points** that may be stated in a finite-dimensional space. Because it may happen that the sets to discriminate are not linearly separable in that space, **the original finite-dimensional space is mapped into a much higher-dimensional space**, presumably **making the separation easier** in that space. To keep the computational cost-efficient, these mappings used in our model ensure that dot products of pairs of input data vectors may be computed easily in terms of the variables in the original space, by defining them in terms of a kernel function that suits the problem. The hyperplanes in the higher-dimensional space are defined as the set of points whose dot product with a vector in that space is constant, where such a set of vectors is an orthogonal (and thus minimal) set of vectors that defines a hyperplane. "
   ]
  },
  {
   "cell_type": "markdown",
   "id": "4a2c0b53",
   "metadata": {
    "hidden": true
   },
   "source": [
    "### Feature Extraction\n",
    "\n",
    "We are going to use the function *TfidfVectorizer* from the **scikit-learn** module to extract features. Since we are dealing with the same data frame multiple times, we'll use the same resampling done in the last step."
   ]
  },
  {
   "cell_type": "code",
   "execution_count": null,
   "id": "4bdd39af",
   "metadata": {
    "hidden": true
   },
   "outputs": [],
   "source": [
    "x_rs, y_rs = resampled_df['text'], resampled_df['label_num']\n",
    "\n",
    "vectorizer_rs = TfidfVectorizer()\n",
    "features_transformed_rs = vectorizer_rs.fit_transform(x_rs.tolist()) \n",
    "actual = y_rs.tolist()"
   ]
  },
  {
   "cell_type": "markdown",
   "id": "85499d20",
   "metadata": {
    "hidden": true
   },
   "source": [
    "### Obtaining the Best Set of Hyperparameters\n",
    "\n",
    "We'll fit the *SVC* model,  to our *TF-IDF* vector version of x_train, and the true output labels stored in y_train. Since we are dealing with the same data frame multiple times, we'll use the same vector of extracted features from the data frame with resampling done in the last step.\n",
    "\n",
    "To obtain better results since the *Random Forest* has multiple hyperparameters, we will use the *RandomizedSearchCV* module so to obtain the best set of hyperparameters. Well make use of the built-in (Stratified)KFold with 5 folds so the have a better measure of accuracy \n",
    "\n",
    "### Training our Classifier\n",
    "\n",
    "Checking if we have calculated the best set of hiperparameters and best score, we can check if we havent trained our model yet, and if thats the case we will train it! "
   ]
  },
  {
   "cell_type": "code",
   "execution_count": null,
   "id": "136dc0e5",
   "metadata": {
    "hidden": true
   },
   "outputs": [],
   "source": [
    "if not os.path.isfile(\"./data/calculated_hyperparameters/support_vector_hp.txt\"):\n",
    "    \n",
    "    print(\"Calculating best set of HP...\")\n",
    "    classifier = SVC()\n",
    "    train_model(classifier, svm_hp, \"support_vector\")"
   ]
  },
  {
   "cell_type": "markdown",
   "id": "f5f6e433",
   "metadata": {
    "hidden": true
   },
   "source": [
    "### Measuring Accuracy \n",
    "\n",
    "Finally, using our test sets, we'll evaluate the model accuracy using built-in functions from the **scikit** library."
   ]
  },
  {
   "cell_type": "code",
   "execution_count": null,
   "id": "ed15f99b",
   "metadata": {
    "hidden": true
   },
   "outputs": [],
   "source": [
    "scores = pd.read_csv(\"./data/scores/support_vector.csv\")\n",
    "best_acc = scores[(scores['rank_test_accuracy'] == 1) & (scores['rank_test_f1'] == 1)]\n",
    "idx = best_acc['rank_test_precision'].idxmax()\n",
    "best_acc = best_acc.iloc[[idx]]\n",
    "\n",
    "general_scores = pd.read_csv(\"./data/scores/general.csv\")\n",
    "\n",
    "ap_svm = pd.DataFrame({'Method': 'Support Vector Machine', 'Accuracy': best_acc[\"mean_test_accuracy\"].values, \n",
    "      'F-measure': best_acc[\"mean_test_f1\"].values, 'Recall': best_acc[\"mean_test_recall\"].values,\n",
    "      'Precision': best_acc[\"mean_test_precision\"].values}) \n",
    "\n",
    "general_scores = general_scores.append(ap_svm, ignore_index=True)\n",
    "general_scores.to_csv(\"./data/scores/general.csv\", index=False)\n",
    "\n",
    "display(HTML(f'<b>Accuracy: </b> {best_acc[\"mean_test_accuracy\"].values[0]} (+- {best_acc[\"std_test_accuracy\"].values[0]} )'))\n",
    "display(HTML(f'<b>F-measure: </b> {best_acc[\"mean_test_f1\"].values[0]} (+- {best_acc[\"std_test_f1\"].values[0]} )'))\n",
    "display(HTML(f'<b>Recall: </b> {best_acc[\"mean_test_recall\"].values[0]} (+- {best_acc[\"std_test_recall\"].values[0]} )'))\n",
    "display(HTML(f'<b>Precision: </b> {best_acc[\"mean_test_precision\"].values[0]} (+- {best_acc[\"std_test_precision\"].values[0]} )'))"
   ]
  },
  {
   "cell_type": "markdown",
   "id": "db5fbc5a",
   "metadata": {
    "heading_collapsed": true
   },
   "source": [
    "# Classifying spam in emails using a Gradient Boosting\n",
    "\n",
    "According to the Scikit-Learn documentation,\n",
    "\n",
    "> Gradient Tree Boosting or Gradient Boosted Decision Trees (GBDT) is a generalization of boosting to arbitrary differentiable loss functions. GBDT is an accurate and effective off-the-shelf procedure that can be used for both regression and classification problems in a variety of areas including Web search ranking and ecology."
   ]
  },
  {
   "cell_type": "markdown",
   "id": "e1ac7cad",
   "metadata": {
    "hidden": true
   },
   "source": [
    "Let's name our output vector *y*, and our input vector *x*. On gradient Boosting we're going to try to find a function *F'(x)* for a function *F(x)* so to minimize a Loss Function, L(y, F(x)):\n",
    "\n",
    "Algorithm:\n",
    "1. Well initialize the model with constants\n",
    "\n",
    "![image.png](./images/constants.png)\n",
    "\n",
    "2. Well iterate a chosen amount, M, with m being our iteration index:\n",
    "    \n",
    "    1. Calculating the residuals:  ![image.png](./images/residuals.png)\n",
    "\n",
    "    2. We'll adjust the model training with the training set.\n",
    "    3. We'll calculate the *&gamma;* as the solution of an optimaztion unidimensional problem: \n",
    "    \n",
    "    ![image.png](./images/multipliers.png)\n",
    "    \n",
    "    4. We'll update the model: ![image.png](./images/updating.png) \n",
    "    \n",
    "    \n",
    "References:\n",
    "\n",
    "https://jerryfriedman.su.domains/ftp/trebst.pdf"
   ]
  },
  {
   "cell_type": "markdown",
   "id": "1d5477ee",
   "metadata": {
    "hidden": true
   },
   "source": [
    "### Feature Extraction\n",
    "\n",
    "We are going to use the function *TfidfVectorizer* from the **scikit-learn** module to extract features. Since we are dealing with the same data frame multiple times, we'll use the same resampling done in the last step."
   ]
  },
  {
   "cell_type": "code",
   "execution_count": null,
   "id": "ddd18608",
   "metadata": {
    "hidden": true
   },
   "outputs": [],
   "source": [
    "x_rs, y_rs = resampled_df['text'], resampled_df['label_num']\n",
    "\n",
    "vectorizer_rs = TfidfVectorizer()\n",
    "features_transformed_rs = vectorizer_rs.fit_transform(x_rs.tolist()) \n",
    "actual = y_rs.tolist()"
   ]
  },
  {
   "cell_type": "markdown",
   "id": "34f227ee",
   "metadata": {
    "hidden": true
   },
   "source": [
    "### Obtaining the Best Set of Hyperparameters\n",
    "\n",
    "We'll fit the *SVC* model,  to our *TF-IDF* vector version of x_train, and the true output labels stored in y_train. Since we are dealing with the same data frame multiple times, we'll use the same vector of extracted features from the data frame with resampling done in the last step.\n",
    "\n",
    "To obtain better results since the *Gradient Boost* has multiple hyperparameters, we will use the *RandomizedSearchCV* module so to obtain the best set of hyperparameters. Well make use of the built-in (Stratified)KFold with 5 folds so the have a better measure of accuracy \n",
    "\n",
    "### Training our Classifier\n",
    "\n",
    "Checking if we have calculated the best set of hiperparameters and best score, we can check if we havent trained our model yet, and if thats the case we will train it! "
   ]
  },
  {
   "cell_type": "code",
   "execution_count": null,
   "id": "62fefd05",
   "metadata": {
    "hidden": true
   },
   "outputs": [],
   "source": [
    "if not os.path.isfile(\"./data/calculated_hyperparameters/gradient_boost_hp.txt\"):\n",
    "    \n",
    "    print(\"Calculating best set of HP...\")\n",
    "    classifier = GradientBoostingClassifier()\n",
    "    train_model(classifier, grad_boosting_hp, \"gradient_boosting\")"
   ]
  },
  {
   "cell_type": "markdown",
   "id": "a0f58b68",
   "metadata": {
    "hidden": true
   },
   "source": [
    "### Measuring Accuracy \n",
    "\n",
    "Finally, using our test sets, we'll evaluate the model accuracy using built-in functions from the **scikit** library."
   ]
  },
  {
   "cell_type": "code",
   "execution_count": null,
   "id": "bab967eb",
   "metadata": {
    "hidden": true
   },
   "outputs": [],
   "source": [
    "general_scores = pd.read_csv(\"./data/scores/general.csv\")\n",
    "scores = pd.read_csv(\"./data/scores/gradient_boosting.csv\")\n",
    "best_acc = scores[scores['rank_test_accuracy'] == 1]\n",
    "\n",
    "ap_svm = pd.DataFrame({'Method': 'Gradient Boosting', 'Accuracy': best_acc[\"mean_test_accuracy\"].values, \n",
    "      'F-measure': best_acc[\"mean_test_f1\"].values, 'Recall': best_acc[\"mean_test_recall\"].values,\n",
    "      'Precision': best_acc[\"mean_test_precision\"].values}) \n",
    "\n",
    "general_scores = general_scores.append(ap_svm, ignore_index=True)\n",
    "general_scores.to_csv(\"./data/scores/general.csv\", index=False)\n",
    "\n",
    "display(HTML(f'<b>Accuracy: </b> {best_acc[\"mean_test_accuracy\"].values[0]} (+- {best_acc[\"std_test_accuracy\"].values[0]} )'))\n",
    "display(HTML(f'<b>F-measure: </b> {best_acc[\"mean_test_f1\"].values[0]} (+- {best_acc[\"std_test_f1\"].values[0]} )'))\n",
    "display(HTML(f'<b>Recall: </b> {best_acc[\"mean_test_recall\"].values[0]} (+- {best_acc[\"std_test_recall\"].values[0]} )'))\n",
    "display(HTML(f'<b>Precision: </b> {best_acc[\"mean_test_precision\"].values[0]} (+- {best_acc[\"std_test_precision\"].values[0]} )'))"
   ]
  },
  {
   "cell_type": "markdown",
   "id": "41de7a67",
   "metadata": {
    "heading_collapsed": true
   },
   "source": [
    "# Classifying spam in emails using a Long Short Term Memory\n",
    "https://towardsdatascience.com/spam-detection-in-emails-de0398ea3b48"
   ]
  },
  {
   "cell_type": "markdown",
   "id": "f074ac26",
   "metadata": {
    "heading_collapsed": true,
    "hidden": true
   },
   "source": [
    "## Setting Data for Training\n"
   ]
  },
  {
   "cell_type": "markdown",
   "id": "f09deb47",
   "metadata": {
    "hidden": true
   },
   "source": [
    "### Setting Constants\n",
    "Some constants are used multiple times when defining our Network, so well define it here. The first being *max_feature*, the number of unique words in our set, the second constant is *max_len*, the size of the largest sentence."
   ]
  },
  {
   "cell_type": "code",
   "execution_count": 2,
   "id": "ac2eb2be",
   "metadata": {
    "hidden": true
   },
   "outputs": [],
   "source": [
    "max_feature = 60000 \n",
    "max_len = 783"
   ]
  },
  {
   "cell_type": "markdown",
   "id": "e54d14df",
   "metadata": {
    "heading_collapsed": true,
    "hidden": true
   },
   "source": [
    "### Defining Input and Target\n",
    "\n",
    "We will split the data frame in two vectors, one named x for our input and another named y for the target."
   ]
  },
  {
   "cell_type": "code",
   "execution_count": 3,
   "id": "715e38d0",
   "metadata": {
    "hidden": true
   },
   "outputs": [],
   "source": [
    "df = pd.read_csv(\"./data/input_data/preprocessed_spam_ham.csv\")\n",
    "x, y = df['text'], df['label_num']"
   ]
  },
  {
   "cell_type": "markdown",
   "id": "1ce77d40",
   "metadata": {
    "heading_collapsed": true,
    "hidden": true
   },
   "source": [
    "### Encoding Data\n",
    "\n",
    "To have the right shape of data to the *keras* model, we will encode our targets with a *LabelEncoder()* and Tokenize the input with the **Keras** library. "
   ]
  },
  {
   "cell_type": "code",
   "execution_count": 4,
   "id": "e50c0180",
   "metadata": {
    "hidden": true
   },
   "outputs": [],
   "source": [
    "tokenizer = Tokenizer(num_words=max_feature)\n",
    "tokenizer.fit_on_texts(x)\n",
    "encoded_x = np.array(tokenizer.texts_to_sequences(x), dtype=object,)\n",
    "\n",
    "le = LabelEncoder()\n",
    "encoded_y = le.fit_transform(y)"
   ]
  },
  {
   "cell_type": "markdown",
   "id": "61b50725",
   "metadata": {
    "heading_collapsed": true,
    "hidden": true
   },
   "source": [
    "### Making all Sentences the Same Size with Padding\n",
    "\n",
    "So to not loose information the email tokens will be the same size. We will force those tokens to be the length of the largest sequence using the function *pad_sequences*."
   ]
  },
  {
   "cell_type": "code",
   "execution_count": 5,
   "id": "fe01e0d6",
   "metadata": {
    "hidden": true
   },
   "outputs": [],
   "source": [
    "encoded_x = pad_sequences(encoded_x, maxlen=max_len)"
   ]
  },
  {
   "cell_type": "markdown",
   "id": "3e0032b0",
   "metadata": {
    "heading_collapsed": true,
    "hidden": true
   },
   "source": [
    "### Creating the model\n",
    "\n",
    "Our Model will consist of a Neural Network built with **tensorflow** and **keras**, the net contains an Embedding Layer for vectorization and a Bi-directional LSTM layer. We will also use *Dropout* to improve the generalization error and *Activation Functions* such as *Rectified linear unit* (ReLU) and the *Hyperbolic tangent activation function* (tanh), to maintain the probabilistic model with the max(0; x). To have a better validation of our results and ensure that the training/test splits are relatively unbiased we’ll use *K-fold Cross Validation* with 5 folds."
   ]
  },
  {
   "cell_type": "code",
   "execution_count": 15,
   "id": "cc3e9891",
   "metadata": {
    "hidden": true
   },
   "outputs": [],
   "source": [
    "def lstm(optimizer, lstm_layer_sz, dense_layer_sz):\n",
    "      \n",
    "    kfold = KFold(n_splits=5, shuffle=True) # mudar pra 5 folds\n",
    "    \n",
    "    \n",
    "    acc = []\n",
    "    f1 = []\n",
    "    recall = []\n",
    "    precision = []\n",
    "    \n",
    "    fold_no = 1\n",
    "    for train, test in kfold.split(encoded_x, encoded_y):\n",
    "        \n",
    "        print('------------------------------------------------------------------------')\n",
    "        print(f'Training for fold {fold_no} ...')\n",
    "        \n",
    "        model = tf.keras.Sequential()\n",
    "\n",
    "        model.add(Embedding(input_dim = max_feature, output_dim = 32, input_length = max_len))\n",
    "        model.add(Bidirectional(tf.keras.layers.LSTM(lstm_layer_sz)))\n",
    "        model.add(Dense(16, activation='relu'))\n",
    "        model.add(Dropout(0.5))\n",
    "        model.add(Dense(1, activation='tanh'))\n",
    "        model.compile(loss='binary_crossentropy', optimizer=optimizer, metrics=['accuracy'])\n",
    "    \n",
    "        \n",
    "        history = model.fit(encoded_x[train], encoded_y[train], batch_size=128, #mudar pra 4 epochs e batch 128\n",
    "                            epochs=5, validation_data=(encoded_x[test], encoded_y[test]))\n",
    "\n",
    "        \n",
    "        prediction = [1 if element > 0.5 else 0 for element in model.predict(encoded_x[test])]        \n",
    "        \n",
    "        acc.append(accuracy_score(encoded_y[test], prediction))\n",
    "        f1.append(f1_score(encoded_y[test], prediction, average = \"binary\"))\n",
    "        recall.append(recall_score(encoded_y[test], prediction))\n",
    "        precision.append(precision_score(encoded_y[test], prediction))\n",
    "\n",
    "        # Increase fold number\n",
    "        fold_no = fold_no + 1\n",
    "    \n",
    "    return model, acc, f1, recall, precision"
   ]
  },
  {
   "cell_type": "markdown",
   "id": "6bba155e",
   "metadata": {
    "hidden": true
   },
   "source": [
    "### Training the LSTM"
   ]
  },
  {
   "cell_type": "code",
   "execution_count": 29,
   "id": "12ab24e9",
   "metadata": {
    "hidden": true
   },
   "outputs": [],
   "source": [
    "def model_training(optimizer, lstm_layer_sz, dense_layer_sz):\n",
    "    \n",
    "    if os.path.isdir(f'./data/models/lstm_optimizer_{optimizer}_l1_{lstm_layer_sz}_l2_{dense_layer_sz}'):\n",
    "\n",
    "        print(\"Model Has already been trained!\")\n",
    "        model = load_model(f'./data/models/lstm_optimizer_{optimizer}_l1_{lstm_layer_sz}_l2_{dense_layer_sz}')\n",
    "\n",
    "\n",
    "    else:\n",
    "        model, acc, f1, recall, precision = lstm(optimizer = optimizer, lstm_layer_sz = lstm_layer_sz, dense_layer_sz = dense_layer_sz)\n",
    "        \n",
    "        model.save(f'./data/models/lstm_optimizer_{optimizer}_l1_{lstm_layer_sz}_l2_{dense_layer_sz}')\n",
    "        general_scores = pd.read_csv(\"./data/scores/general.csv\")\n",
    "\n",
    "        ap = pd.DataFrame({'Method': [f'{optimizer}_{lstm_layer_sz}_{dense_layer_sz}'], 'Accuracy': [np.mean(acc)], \n",
    "                    'F-measure': [np.mean(f1)], 'Recall': [np.mean(recall)],\n",
    "                    'Precision': [np.mean(precision)] }) \n",
    "\n",
    "        general_scores = general_scores.append(ap, ignore_index=True)\n",
    "        general_scores.to_csv(\"./data/scores/general.csv\", index=False)\n",
    "        \n",
    "    general_scores = pd.read_csv(\"./data/scores/general.csv\")\n",
    "    row = general_scores[general_scores['Method'] == f'{optimizer}_{lstm_layer_sz}_{dense_layer_sz}']\n",
    "    \n",
    "    display(HTML(f'<b>Accuracy: </b> {row[\"Accuracy\"].values[0]}'))\n",
    "    display(HTML(f'<b>F-measure: </b> {row[\"F-measure\"].values[0]}'))   \n",
    "    display(HTML(f'<b>Recall: </b> {row[\"Recall\"].values[0]}'))\n",
    "    display(HTML(f'<b>Precision: </b> {row[\"Precision\"].values[0]}'))\n"
   ]
  },
  {
   "cell_type": "markdown",
   "id": "18ca4b02",
   "metadata": {
    "heading_collapsed": true,
    "hidden": true
   },
   "source": [
    "## Optimizer: Adam"
   ]
  },
  {
   "cell_type": "markdown",
   "id": "8c66a566",
   "metadata": {
    "hidden": true
   },
   "source": [
    "### Model Accuracy with Adam and the LSTM layer with a Dense Layer with 16 cells\n"
   ]
  },
  {
   "cell_type": "code",
   "execution_count": 30,
   "id": "fb61ff61",
   "metadata": {
    "hidden": true
   },
   "outputs": [
    {
     "data": {
      "text/html": [
       "<h4>Optimizer: Adam, Layer Size: 64 and 16 </h4>"
      ],
      "text/plain": [
       "<IPython.core.display.HTML object>"
      ]
     },
     "metadata": {},
     "output_type": "display_data"
    },
    {
     "name": "stdout",
     "output_type": "stream",
     "text": [
      "Model Has already been trained!\n"
     ]
    },
    {
     "data": {
      "text/html": [
       "<b>Accuracy: </b> 0.9756312430502996"
      ],
      "text/plain": [
       "<IPython.core.display.HTML object>"
      ]
     },
     "metadata": {},
     "output_type": "display_data"
    },
    {
     "data": {
      "text/html": [
       "<b>F-measure: </b> 0.958342384436331"
      ],
      "text/plain": [
       "<IPython.core.display.HTML object>"
      ]
     },
     "metadata": {},
     "output_type": "display_data"
    },
    {
     "data": {
      "text/html": [
       "<b>Recall: </b> 0.967973363261423"
      ],
      "text/plain": [
       "<IPython.core.display.HTML object>"
      ]
     },
     "metadata": {},
     "output_type": "display_data"
    },
    {
     "data": {
      "text/html": [
       "<b>Precision: </b> 0.9491230892771012"
      ],
      "text/plain": [
       "<IPython.core.display.HTML object>"
      ]
     },
     "metadata": {},
     "output_type": "display_data"
    }
   ],
   "source": [
    "display(HTML(f'<h4>Optimizer: Adam, Layer Size: 64 and 16 </h4>'))\n",
    "model_training(\"adam\", 64, 16)"
   ]
  },
  {
   "cell_type": "markdown",
   "id": "cb189a5e",
   "metadata": {
    "hidden": true
   },
   "source": [
    "### Model Accuracy with Adam and the LSTM layer with a Dense Layer with 32 cells\n"
   ]
  },
  {
   "cell_type": "code",
   "execution_count": 31,
   "id": "b12023e1",
   "metadata": {
    "hidden": true
   },
   "outputs": [
    {
     "data": {
      "text/html": [
       "<h4>Optimizer: Adam, Layer Size: 64 and 32 </h4>"
      ],
      "text/plain": [
       "<IPython.core.display.HTML object>"
      ]
     },
     "metadata": {},
     "output_type": "display_data"
    },
    {
     "name": "stdout",
     "output_type": "stream",
     "text": [
      "Model Has already been trained!\n"
     ]
    },
    {
     "data": {
      "text/html": [
       "<b>Accuracy: </b> 0.9748586699558022"
      ],
      "text/plain": [
       "<IPython.core.display.HTML object>"
      ]
     },
     "metadata": {},
     "output_type": "display_data"
    },
    {
     "data": {
      "text/html": [
       "<b>F-measure: </b> 0.956465902694321"
      ],
      "text/plain": [
       "<IPython.core.display.HTML object>"
      ]
     },
     "metadata": {},
     "output_type": "display_data"
    },
    {
     "data": {
      "text/html": [
       "<b>Recall: </b> 0.9584390676697276"
      ],
      "text/plain": [
       "<IPython.core.display.HTML object>"
      ]
     },
     "metadata": {},
     "output_type": "display_data"
    },
    {
     "data": {
      "text/html": [
       "<b>Precision: </b> 0.95452126628657"
      ],
      "text/plain": [
       "<IPython.core.display.HTML object>"
      ]
     },
     "metadata": {},
     "output_type": "display_data"
    }
   ],
   "source": [
    "display(HTML(f'<h4>Optimizer: Adam, Layer Size: 64 and 32 </h4>'))\n",
    "model_training(\"adam\", 64, 32)"
   ]
  },
  {
   "cell_type": "markdown",
   "id": "d03fb2d3",
   "metadata": {
    "hidden": true
   },
   "source": [
    "### Model Accuracy with Adam and the LSTM layer with a Dense Layer with 64 cells\n"
   ]
  },
  {
   "cell_type": "code",
   "execution_count": 32,
   "id": "c3f35b82",
   "metadata": {
    "hidden": true
   },
   "outputs": [
    {
     "data": {
      "text/html": [
       "<h4>Optimizer: Adam, Layer Size: 64 and 64</h4>"
      ],
      "text/plain": [
       "<IPython.core.display.HTML object>"
      ]
     },
     "metadata": {},
     "output_type": "display_data"
    },
    {
     "name": "stdout",
     "output_type": "stream",
     "text": [
      "Model Has already been trained!\n"
     ]
    },
    {
     "data": {
      "text/html": [
       "<b>Accuracy: </b> 0.9700283127295152"
      ],
      "text/plain": [
       "<IPython.core.display.HTML object>"
      ]
     },
     "metadata": {},
     "output_type": "display_data"
    },
    {
     "data": {
      "text/html": [
       "<b>F-measure: </b> 0.9483013291186064"
      ],
      "text/plain": [
       "<IPython.core.display.HTML object>"
      ]
     },
     "metadata": {},
     "output_type": "display_data"
    },
    {
     "data": {
      "text/html": [
       "<b>Recall: </b> 0.9555998644419644"
      ],
      "text/plain": [
       "<IPython.core.display.HTML object>"
      ]
     },
     "metadata": {},
     "output_type": "display_data"
    },
    {
     "data": {
      "text/html": [
       "<b>Precision: </b> 0.943118990333371"
      ],
      "text/plain": [
       "<IPython.core.display.HTML object>"
      ]
     },
     "metadata": {},
     "output_type": "display_data"
    }
   ],
   "source": [
    "display(HTML(f'<h4>Optimizer: Adam, Layer Size: 64 and 64</h4>'))\n",
    "model_training(\"adam\", 64, 64)"
   ]
  },
  {
   "cell_type": "markdown",
   "id": "ed6e3464",
   "metadata": {
    "hidden": true
   },
   "source": [
    "### Model Accuracy with Adam and the LSTM layer a Dense Layer with 128 cells\n"
   ]
  },
  {
   "cell_type": "code",
   "execution_count": 33,
   "id": "e0ccae82",
   "metadata": {
    "hidden": true
   },
   "outputs": [
    {
     "data": {
      "text/html": [
       "<h4>Optimizer: Adam, Layer Size: 64 and 128 </h4>"
      ],
      "text/plain": [
       "<IPython.core.display.HTML object>"
      ]
     },
     "metadata": {},
     "output_type": "display_data"
    },
    {
     "name": "stdout",
     "output_type": "stream",
     "text": [
      "Model Has already been trained!\n"
     ]
    },
    {
     "data": {
      "text/html": [
       "<b>Accuracy: </b> 0.9671207916351304"
      ],
      "text/plain": [
       "<IPython.core.display.HTML object>"
      ]
     },
     "metadata": {},
     "output_type": "display_data"
    },
    {
     "data": {
      "text/html": [
       "<b>F-measure: </b> 0.9412638057414036"
      ],
      "text/plain": [
       "<IPython.core.display.HTML object>"
      ]
     },
     "metadata": {},
     "output_type": "display_data"
    },
    {
     "data": {
      "text/html": [
       "<b>Recall: </b> 0.937495914458568"
      ],
      "text/plain": [
       "<IPython.core.display.HTML object>"
      ]
     },
     "metadata": {},
     "output_type": "display_data"
    },
    {
     "data": {
      "text/html": [
       "<b>Precision: </b> 0.9488840574464776"
      ],
      "text/plain": [
       "<IPython.core.display.HTML object>"
      ]
     },
     "metadata": {},
     "output_type": "display_data"
    }
   ],
   "source": [
    "display(HTML(f'<h4>Optimizer: Adam, Layer Size: 64 and 128 </h4>'))\n",
    "model_training(\"adam\", 64, 128)"
   ]
  },
  {
   "cell_type": "markdown",
   "id": "ac29a811",
   "metadata": {
    "hidden": true
   },
   "source": [
    "## Optimizer: RMsprop"
   ]
  },
  {
   "cell_type": "markdown",
   "id": "b631f1b9",
   "metadata": {
    "hidden": true
   },
   "source": [
    "### Model Accuracy with RMsprop and the LSTM layer with a Dense Layer with 16 cells"
   ]
  },
  {
   "cell_type": "code",
   "execution_count": 39,
   "id": "9b1f5c5d",
   "metadata": {
    "hidden": true
   },
   "outputs": [
    {
     "data": {
      "text/html": [
       "<h4>Optimizer: RMSprop, Layer Size: 64 and 16 </h4>"
      ],
      "text/plain": [
       "<IPython.core.display.HTML object>"
      ]
     },
     "metadata": {},
     "output_type": "display_data"
    },
    {
     "name": "stdout",
     "output_type": "stream",
     "text": [
      "Model Has already been trained!\n"
     ]
    },
    {
     "data": {
      "text/html": [
       "<b>Accuracy: </b> 0.8906113867630981"
      ],
      "text/plain": [
       "<IPython.core.display.HTML object>"
      ]
     },
     "metadata": {},
     "output_type": "display_data"
    },
    {
     "data": {
      "text/html": [
       "<b>F-measure: </b> 0.8819777346723109"
      ],
      "text/plain": [
       "<IPython.core.display.HTML object>"
      ]
     },
     "metadata": {},
     "output_type": "display_data"
    },
    {
     "data": {
      "text/html": [
       "<b>Recall: </b> 0.976825903046424"
      ],
      "text/plain": [
       "<IPython.core.display.HTML object>"
      ]
     },
     "metadata": {},
     "output_type": "display_data"
    },
    {
     "data": {
      "text/html": [
       "<b>Precision: </b> 0.8418009002271013"
      ],
      "text/plain": [
       "<IPython.core.display.HTML object>"
      ]
     },
     "metadata": {},
     "output_type": "display_data"
    }
   ],
   "source": [
    "display(HTML(f'<h4>Optimizer: RMSprop, Layer Size: 64 and 16 </h4>'))\n",
    "model_training(\"RMSprop\", 64, 16)"
   ]
  },
  {
   "cell_type": "markdown",
   "id": "febf35a4",
   "metadata": {
    "hidden": true
   },
   "source": [
    "### Model Accuracy with RMsprop and the LSTM layer with a Dense Layer with 32 cells"
   ]
  },
  {
   "cell_type": "code",
   "execution_count": 40,
   "id": "f809ef0c",
   "metadata": {
    "hidden": true
   },
   "outputs": [
    {
     "data": {
      "text/html": [
       "<h4>Optimizer: RMSprop, Layer Size: 64 and 32 </h4>"
      ],
      "text/plain": [
       "<IPython.core.display.HTML object>"
      ]
     },
     "metadata": {},
     "output_type": "display_data"
    },
    {
     "name": "stdout",
     "output_type": "stream",
     "text": [
      "Model Has already been trained!\n"
     ]
    },
    {
     "data": {
      "text/html": [
       "<b>Accuracy: </b> 0.9702202412655696"
      ],
      "text/plain": [
       "<IPython.core.display.HTML object>"
      ]
     },
     "metadata": {},
     "output_type": "display_data"
    },
    {
     "data": {
      "text/html": [
       "<b>F-measure: </b> 0.9506180431462562"
      ],
      "text/plain": [
       "<IPython.core.display.HTML object>"
      ]
     },
     "metadata": {},
     "output_type": "display_data"
    },
    {
     "data": {
      "text/html": [
       "<b>Recall: </b> 0.9864751423962352"
      ],
      "text/plain": [
       "<IPython.core.display.HTML object>"
      ]
     },
     "metadata": {},
     "output_type": "display_data"
    },
    {
     "data": {
      "text/html": [
       "<b>Precision: </b> 0.9184708575623944"
      ],
      "text/plain": [
       "<IPython.core.display.HTML object>"
      ]
     },
     "metadata": {},
     "output_type": "display_data"
    }
   ],
   "source": [
    "display(HTML(f'<h4>Optimizer: RMSprop, Layer Size: 64 and 32 </h4>'))\n",
    "model_training(\"RMSprop\", 64, 32)"
   ]
  },
  {
   "cell_type": "markdown",
   "id": "2b7d999c",
   "metadata": {
    "hidden": true
   },
   "source": [
    "### Model Accuracy with RMsprop and the LSTM layer with a Dense Layer with 64 cells"
   ]
  },
  {
   "cell_type": "code",
   "execution_count": 41,
   "id": "e51df5f4",
   "metadata": {
    "hidden": true
   },
   "outputs": [
    {
     "data": {
      "text/html": [
       "<h4>Optimizer: RMSprop, Layer Size: 64 and 64 </h4>"
      ],
      "text/plain": [
       "<IPython.core.display.HTML object>"
      ]
     },
     "metadata": {},
     "output_type": "display_data"
    },
    {
     "name": "stdout",
     "output_type": "stream",
     "text": [
      "Model Has already been trained!\n"
     ]
    },
    {
     "data": {
      "text/html": [
       "<b>Accuracy: </b> 0.9514542277539502"
      ],
      "text/plain": [
       "<IPython.core.display.HTML object>"
      ]
     },
     "metadata": {},
     "output_type": "display_data"
    },
    {
     "data": {
      "text/html": [
       "<b>F-measure: </b> 0.8963944993620079"
      ],
      "text/plain": [
       "<IPython.core.display.HTML object>"
      ]
     },
     "metadata": {},
     "output_type": "display_data"
    },
    {
     "data": {
      "text/html": [
       "<b>Recall: </b> 0.8819810079931294"
      ],
      "text/plain": [
       "<IPython.core.display.HTML object>"
      ]
     },
     "metadata": {},
     "output_type": "display_data"
    },
    {
     "data": {
      "text/html": [
       "<b>Precision: </b> 0.947813425080945"
      ],
      "text/plain": [
       "<IPython.core.display.HTML object>"
      ]
     },
     "metadata": {},
     "output_type": "display_data"
    }
   ],
   "source": [
    "display(HTML(f'<h4>Optimizer: RMSprop, Layer Size: 64 and 64 </h4>'))\n",
    "model_training(\"RMSprop\", 64, 64)"
   ]
  },
  {
   "cell_type": "markdown",
   "id": "5dd12450",
   "metadata": {
    "hidden": true
   },
   "source": [
    "### Model Accuracy with RMsprop and the LSTM layer with a Dense Layer with 128 cells"
   ]
  },
  {
   "cell_type": "code",
   "execution_count": 42,
   "id": "438ac504",
   "metadata": {
    "hidden": true
   },
   "outputs": [
    {
     "data": {
      "text/html": [
       "<h4>Optimizer: RMSprop, Layer Size: 64 and 128 </h4>"
      ],
      "text/plain": [
       "<IPython.core.display.HTML object>"
      ]
     },
     "metadata": {},
     "output_type": "display_data"
    },
    {
     "name": "stdout",
     "output_type": "stream",
     "text": [
      "Model Has already been trained!\n"
     ]
    },
    {
     "data": {
      "text/html": [
       "<b>Accuracy: </b> 0.973507508012596"
      ],
      "text/plain": [
       "<IPython.core.display.HTML object>"
      ]
     },
     "metadata": {},
     "output_type": "display_data"
    },
    {
     "data": {
      "text/html": [
       "<b>F-measure: </b> 0.9558315561345088"
      ],
      "text/plain": [
       "<IPython.core.display.HTML object>"
      ]
     },
     "metadata": {},
     "output_type": "display_data"
    },
    {
     "data": {
      "text/html": [
       "<b>Recall: </b> 0.9874086296516972"
      ],
      "text/plain": [
       "<IPython.core.display.HTML object>"
      ]
     },
     "metadata": {},
     "output_type": "display_data"
    },
    {
     "data": {
      "text/html": [
       "<b>Precision: </b> 0.9267153097113052"
      ],
      "text/plain": [
       "<IPython.core.display.HTML object>"
      ]
     },
     "metadata": {},
     "output_type": "display_data"
    }
   ],
   "source": [
    "display(HTML(f'<h4>Optimizer: RMSprop, Layer Size: 64 and 128 </h4>'))\n",
    "model_training(\"RMSprop\", 64, 128)"
   ]
  },
  {
   "cell_type": "markdown",
   "id": "b4068332",
   "metadata": {
    "heading_collapsed": true
   },
   "source": [
    "# Conclusions:\n",
    "\n",
    "## Precision Comparisons\n",
    "\n",
    "The *precision_score* function of the **scikit** library measures the hability of the classifier not to label as positive a sample that is negative, when we look to our application we can think as our program not classifing a legitimate e-mail as spam."
   ]
  },
  {
   "cell_type": "code",
   "execution_count": 57,
   "id": "456e9e75",
   "metadata": {
    "hidden": true
   },
   "outputs": [
    {
     "data": {
      "text/html": [
       "<div>\n",
       "<style scoped>\n",
       "    .dataframe tbody tr th:only-of-type {\n",
       "        vertical-align: middle;\n",
       "    }\n",
       "\n",
       "    .dataframe tbody tr th {\n",
       "        vertical-align: top;\n",
       "    }\n",
       "\n",
       "    .dataframe thead th {\n",
       "        text-align: right;\n",
       "    }\n",
       "</style>\n",
       "<table border=\"1\" class=\"dataframe\">\n",
       "  <thead>\n",
       "    <tr style=\"text-align: right;\">\n",
       "      <th></th>\n",
       "      <th>Method</th>\n",
       "      <th>Precision</th>\n",
       "    </tr>\n",
       "  </thead>\n",
       "  <tbody>\n",
       "    <tr>\n",
       "      <th>1</th>\n",
       "      <td>Complement Naive Bayes</td>\n",
       "      <td>0.974820</td>\n",
       "    </tr>\n",
       "    <tr>\n",
       "      <th>3</th>\n",
       "      <td>Support Vector Machine</td>\n",
       "      <td>0.962067</td>\n",
       "    </tr>\n",
       "    <tr>\n",
       "      <th>6</th>\n",
       "      <td>adam_64_32</td>\n",
       "      <td>0.954521</td>\n",
       "    </tr>\n",
       "    <tr>\n",
       "      <th>0</th>\n",
       "      <td>Multinomial Naive Bayes</td>\n",
       "      <td>0.949833</td>\n",
       "    </tr>\n",
       "    <tr>\n",
       "      <th>5</th>\n",
       "      <td>adam_64_16</td>\n",
       "      <td>0.949123</td>\n",
       "    </tr>\n",
       "    <tr>\n",
       "      <th>8</th>\n",
       "      <td>adam_64_128</td>\n",
       "      <td>0.948884</td>\n",
       "    </tr>\n",
       "    <tr>\n",
       "      <th>11</th>\n",
       "      <td>RMSprop_64_64</td>\n",
       "      <td>0.947813</td>\n",
       "    </tr>\n",
       "    <tr>\n",
       "      <th>7</th>\n",
       "      <td>adam_64_64</td>\n",
       "      <td>0.943119</td>\n",
       "    </tr>\n",
       "    <tr>\n",
       "      <th>12</th>\n",
       "      <td>RMSprop_64_128</td>\n",
       "      <td>0.926715</td>\n",
       "    </tr>\n",
       "    <tr>\n",
       "      <th>4</th>\n",
       "      <td>Gradient Boosting</td>\n",
       "      <td>0.926449</td>\n",
       "    </tr>\n",
       "    <tr>\n",
       "      <th>10</th>\n",
       "      <td>RMSprop_64_32</td>\n",
       "      <td>0.918471</td>\n",
       "    </tr>\n",
       "    <tr>\n",
       "      <th>2</th>\n",
       "      <td>Random Forrest</td>\n",
       "      <td>0.912988</td>\n",
       "    </tr>\n",
       "    <tr>\n",
       "      <th>9</th>\n",
       "      <td>RMSprop_64_16</td>\n",
       "      <td>0.841801</td>\n",
       "    </tr>\n",
       "  </tbody>\n",
       "</table>\n",
       "</div>"
      ],
      "text/plain": [
       "                     Method  Precision\n",
       "1    Complement Naive Bayes   0.974820\n",
       "3    Support Vector Machine   0.962067\n",
       "6                adam_64_32   0.954521\n",
       "0   Multinomial Naive Bayes   0.949833\n",
       "5                adam_64_16   0.949123\n",
       "8               adam_64_128   0.948884\n",
       "11            RMSprop_64_64   0.947813\n",
       "7                adam_64_64   0.943119\n",
       "12           RMSprop_64_128   0.926715\n",
       "4         Gradient Boosting   0.926449\n",
       "10            RMSprop_64_32   0.918471\n",
       "2            Random Forrest   0.912988\n",
       "9             RMSprop_64_16   0.841801"
      ]
     },
     "metadata": {},
     "output_type": "display_data"
    }
   ],
   "source": [
    "df = pd.read_csv(\"./data/scores/general.csv\")\n",
    "\n",
    "sorted_precision = df.sort_values(by ='Precision', ascending=False)\n",
    "display(sorted_precision[['Method', 'Precision']])"
   ]
  },
  {
   "cell_type": "markdown",
   "id": "036e96d0",
   "metadata": {
    "hidden": true
   },
   "source": [
    "As seen above the best results were obtained with the *Complement Naive Bayes Algorithm* and the *Support Vector Machine* after resampling, contrary to the initial hypothesis that the *RNN* would be better, althought is worth noticing that the difference in precision is about 0.02.\n",
    "\n",
    "Bellow its possible to better see the precision in each model: "
   ]
  },
  {
   "cell_type": "code",
   "execution_count": 52,
   "id": "f8c42b59",
   "metadata": {
    "hidden": true
   },
   "outputs": [
    {
     "data": {
      "image/png": "[encoded data removed]",
      "text/plain": [
       "<Figure size 1440x360 with 1 Axes>"
      ]
     },
     "metadata": {
      "needs_background": "light"
     },
     "output_type": "display_data"
    }
   ],
   "source": [
    "plt.rcParams[\"figure.figsize\"] = (20,5)\n",
    "fig = df.plot(x ='Method', y='Precision', kind = 'bar')\n",
    "plt.ylim(0.8, 1.0)\n",
    "\n",
    "plt.show()"
   ]
  },
  {
   "cell_type": "markdown",
   "id": "0b6a5f0a",
   "metadata": {
    "hidden": true
   },
   "source": [
    "## Recall Comparisons\n",
    "\n",
    "The *recall_score* function of the **scikit** library measures the the ability of the classifier to find all the positive samples, when we look to our application we can think as our program identifying all spam."
   ]
  },
  {
   "cell_type": "code",
   "execution_count": 58,
   "id": "909fc15c",
   "metadata": {
    "hidden": true
   },
   "outputs": [
    {
     "data": {
      "text/html": [
       "<div>\n",
       "<style scoped>\n",
       "    .dataframe tbody tr th:only-of-type {\n",
       "        vertical-align: middle;\n",
       "    }\n",
       "\n",
       "    .dataframe tbody tr th {\n",
       "        vertical-align: top;\n",
       "    }\n",
       "\n",
       "    .dataframe thead th {\n",
       "        text-align: right;\n",
       "    }\n",
       "</style>\n",
       "<table border=\"1\" class=\"dataframe\">\n",
       "  <thead>\n",
       "    <tr style=\"text-align: right;\">\n",
       "      <th></th>\n",
       "      <th>Method</th>\n",
       "      <th>Recall</th>\n",
       "    </tr>\n",
       "  </thead>\n",
       "  <tbody>\n",
       "    <tr>\n",
       "      <th>2</th>\n",
       "      <td>Random Forrest</td>\n",
       "      <td>0.999333</td>\n",
       "    </tr>\n",
       "    <tr>\n",
       "      <th>3</th>\n",
       "      <td>Support Vector Machine</td>\n",
       "      <td>0.996664</td>\n",
       "    </tr>\n",
       "    <tr>\n",
       "      <th>0</th>\n",
       "      <td>Multinomial Naive Bayes</td>\n",
       "      <td>0.996491</td>\n",
       "    </tr>\n",
       "    <tr>\n",
       "      <th>4</th>\n",
       "      <td>Gradient Boosting</td>\n",
       "      <td>0.989987</td>\n",
       "    </tr>\n",
       "    <tr>\n",
       "      <th>12</th>\n",
       "      <td>RMSprop_64_128</td>\n",
       "      <td>0.987409</td>\n",
       "    </tr>\n",
       "    <tr>\n",
       "      <th>10</th>\n",
       "      <td>RMSprop_64_32</td>\n",
       "      <td>0.986475</td>\n",
       "    </tr>\n",
       "    <tr>\n",
       "      <th>9</th>\n",
       "      <td>RMSprop_64_16</td>\n",
       "      <td>0.976826</td>\n",
       "    </tr>\n",
       "    <tr>\n",
       "      <th>5</th>\n",
       "      <td>adam_64_16</td>\n",
       "      <td>0.967973</td>\n",
       "    </tr>\n",
       "    <tr>\n",
       "      <th>6</th>\n",
       "      <td>adam_64_32</td>\n",
       "      <td>0.958439</td>\n",
       "    </tr>\n",
       "    <tr>\n",
       "      <th>7</th>\n",
       "      <td>adam_64_64</td>\n",
       "      <td>0.955600</td>\n",
       "    </tr>\n",
       "    <tr>\n",
       "      <th>8</th>\n",
       "      <td>adam_64_128</td>\n",
       "      <td>0.937496</td>\n",
       "    </tr>\n",
       "    <tr>\n",
       "      <th>1</th>\n",
       "      <td>Complement Naive Bayes</td>\n",
       "      <td>0.924915</td>\n",
       "    </tr>\n",
       "    <tr>\n",
       "      <th>11</th>\n",
       "      <td>RMSprop_64_64</td>\n",
       "      <td>0.881981</td>\n",
       "    </tr>\n",
       "  </tbody>\n",
       "</table>\n",
       "</div>"
      ],
      "text/plain": [
       "                     Method    Recall\n",
       "2            Random Forrest  0.999333\n",
       "3    Support Vector Machine  0.996664\n",
       "0   Multinomial Naive Bayes  0.996491\n",
       "4         Gradient Boosting  0.989987\n",
       "12           RMSprop_64_128  0.987409\n",
       "10            RMSprop_64_32  0.986475\n",
       "9             RMSprop_64_16  0.976826\n",
       "5                adam_64_16  0.967973\n",
       "6                adam_64_32  0.958439\n",
       "7                adam_64_64  0.955600\n",
       "8               adam_64_128  0.937496\n",
       "1    Complement Naive Bayes  0.924915\n",
       "11            RMSprop_64_64  0.881981"
      ]
     },
     "metadata": {},
     "output_type": "display_data"
    }
   ],
   "source": [
    "df = pd.read_csv(\"./data/scores/general.csv\")\n",
    "\n",
    "sorted_precision = df.sort_values(by ='Recall', ascending=False)\n",
    "display(sorted_precision[['Method', 'Recall']])"
   ]
  },
  {
   "cell_type": "markdown",
   "id": "6743d5de",
   "metadata": {
    "hidden": true
   },
   "source": [
    "Contrary to the initial belief, the best results were obtained with the *Random Forrest* and the *Support Vector Machine* after resampling, with the best result obtained with an *LSTM* being in fifth place, although the difference is smaller then one percent.\n",
    "\n",
    "Bellow its possible to better see the precision in each model: "
   ]
  },
  {
   "cell_type": "code",
   "execution_count": 63,
   "id": "f79e33e1",
   "metadata": {
    "hidden": true
   },
   "outputs": [
    {
     "data": {
      "image/png": "[encoded data removed]",
      "text/plain": [
       "<Figure size 1440x360 with 1 Axes>"
      ]
     },
     "metadata": {
      "needs_background": "light"
     },
     "output_type": "display_data"
    }
   ],
   "source": [
    "plt.rcParams[\"figure.figsize\"] = (20,5)\n",
    "fig = df.plot(x ='Method', y='Recall', kind = 'bar')\n",
    "plt.ylim(0.8, 1.005)\n",
    "\n",
    "plt.show()"
   ]
  },
  {
   "cell_type": "markdown",
   "id": "6a84084e",
   "metadata": {
    "hidden": true
   },
   "source": [
    "## General Comparisons with Accuracy Score and F-measure\n",
    "\n",
    "\n",
    "texto texto texto texto"
   ]
  },
  {
   "cell_type": "code",
   "execution_count": 71,
   "id": "b6c4b128",
   "metadata": {
    "hidden": true
   },
   "outputs": [
    {
     "data": {
      "text/html": [
       "<th style=\"text-align:center\"><td style=\"vertical-align:top\"><h2>Sorted by Accuracy</h2><table style=\"display:inline\" border=\"1\" class=\"dataframe\">\n",
       "  <thead>\n",
       "    <tr style=\"text-align: right;\">\n",
       "      <th></th>\n",
       "      <th>Method</th>\n",
       "      <th>Accuracy</th>\n",
       "    </tr>\n",
       "  </thead>\n",
       "  <tbody>\n",
       "    <tr>\n",
       "      <th>3</th>\n",
       "      <td>Support Vector Machine</td>\n",
       "      <td>0.978654</td>\n",
       "    </tr>\n",
       "    <tr>\n",
       "      <th>5</th>\n",
       "      <td>adam_64_16</td>\n",
       "      <td>0.975631</td>\n",
       "    </tr>\n",
       "    <tr>\n",
       "      <th>6</th>\n",
       "      <td>adam_64_32</td>\n",
       "      <td>0.974859</td>\n",
       "    </tr>\n",
       "    <tr>\n",
       "      <th>12</th>\n",
       "      <td>RMSprop_64_128</td>\n",
       "      <td>0.973508</td>\n",
       "    </tr>\n",
       "    <tr>\n",
       "      <th>0</th>\n",
       "      <td>Multinomial Naive Bayes</td>\n",
       "      <td>0.973333</td>\n",
       "    </tr>\n",
       "    <tr>\n",
       "      <th>1</th>\n",
       "      <td>Complement Naive Bayes</td>\n",
       "      <td>0.971981</td>\n",
       "    </tr>\n",
       "    <tr>\n",
       "      <th>10</th>\n",
       "      <td>RMSprop_64_32</td>\n",
       "      <td>0.970220</td>\n",
       "    </tr>\n",
       "    <tr>\n",
       "      <th>7</th>\n",
       "      <td>adam_64_64</td>\n",
       "      <td>0.970028</td>\n",
       "    </tr>\n",
       "    <tr>\n",
       "      <th>8</th>\n",
       "      <td>adam_64_128</td>\n",
       "      <td>0.967121</td>\n",
       "    </tr>\n",
       "    <tr>\n",
       "      <th>4</th>\n",
       "      <td>Gradient Boosting</td>\n",
       "      <td>0.955636</td>\n",
       "    </tr>\n",
       "    <tr>\n",
       "      <th>2</th>\n",
       "      <td>Random Forrest</td>\n",
       "      <td>0.951969</td>\n",
       "    </tr>\n",
       "    <tr>\n",
       "      <th>11</th>\n",
       "      <td>RMSprop_64_64</td>\n",
       "      <td>0.951454</td>\n",
       "    </tr>\n",
       "    <tr>\n",
       "      <th>9</th>\n",
       "      <td>RMSprop_64_16</td>\n",
       "      <td>0.890611</td>\n",
       "    </tr>\n",
       "  </tbody>\n",
       "</table style=\"display:inline\"></td></th><th style=\"text-align:center\"><td style=\"vertical-align:top\"><h2>Sorted by F-Measure</h2><table style=\"display:inline\" border=\"1\" class=\"dataframe\">\n",
       "  <thead>\n",
       "    <tr style=\"text-align: right;\">\n",
       "      <th></th>\n",
       "      <th>Method</th>\n",
       "      <th>F-measure</th>\n",
       "    </tr>\n",
       "  </thead>\n",
       "  <tbody>\n",
       "    <tr>\n",
       "      <th>3</th>\n",
       "      <td>Support Vector Machine</td>\n",
       "      <td>0.979044</td>\n",
       "    </tr>\n",
       "    <tr>\n",
       "      <th>0</th>\n",
       "      <td>Multinomial Naive Bayes</td>\n",
       "      <td>0.972603</td>\n",
       "    </tr>\n",
       "    <tr>\n",
       "      <th>5</th>\n",
       "      <td>adam_64_16</td>\n",
       "      <td>0.958342</td>\n",
       "    </tr>\n",
       "    <tr>\n",
       "      <th>4</th>\n",
       "      <td>Gradient Boosting</td>\n",
       "      <td>0.957126</td>\n",
       "    </tr>\n",
       "    <tr>\n",
       "      <th>6</th>\n",
       "      <td>adam_64_32</td>\n",
       "      <td>0.956466</td>\n",
       "    </tr>\n",
       "    <tr>\n",
       "      <th>12</th>\n",
       "      <td>RMSprop_64_128</td>\n",
       "      <td>0.955832</td>\n",
       "    </tr>\n",
       "    <tr>\n",
       "      <th>2</th>\n",
       "      <td>Random Forrest</td>\n",
       "      <td>0.954175</td>\n",
       "    </tr>\n",
       "    <tr>\n",
       "      <th>10</th>\n",
       "      <td>RMSprop_64_32</td>\n",
       "      <td>0.950618</td>\n",
       "    </tr>\n",
       "    <tr>\n",
       "      <th>1</th>\n",
       "      <td>Complement Naive Bayes</td>\n",
       "      <td>0.949212</td>\n",
       "    </tr>\n",
       "    <tr>\n",
       "      <th>7</th>\n",
       "      <td>adam_64_64</td>\n",
       "      <td>0.948301</td>\n",
       "    </tr>\n",
       "    <tr>\n",
       "      <th>8</th>\n",
       "      <td>adam_64_128</td>\n",
       "      <td>0.941264</td>\n",
       "    </tr>\n",
       "    <tr>\n",
       "      <th>11</th>\n",
       "      <td>RMSprop_64_64</td>\n",
       "      <td>0.896394</td>\n",
       "    </tr>\n",
       "    <tr>\n",
       "      <th>9</th>\n",
       "      <td>RMSprop_64_16</td>\n",
       "      <td>0.881978</td>\n",
       "    </tr>\n",
       "  </tbody>\n",
       "</table style=\"display:inline\"></td></th>"
      ]
     },
     "metadata": {},
     "output_type": "display_data"
    }
   ],
   "source": [
    "from IPython.display import display_html\n",
    "from itertools import chain,cycle\n",
    "\n",
    "def display_side_by_side(*args,titles=cycle([''])):\n",
    "    html_str=''\n",
    "    for df,title in zip(args, chain(titles,cycle(['</br>'])) ):\n",
    "        html_str+='<th style=\"text-align:center\"><td style=\"vertical-align:top\">'\n",
    "        html_str+=f'<h2>{title}</h2>'\n",
    "        html_str+=df.to_html().replace('table','table style=\"display:inline\"')\n",
    "        html_str+='</td></th>'\n",
    "    \n",
    "    display_html(html_str,raw=True)\n",
    "  \n",
    "\n",
    "sorted_acc = df.sort_values(by ='Accuracy', ascending=False)\n",
    "sorted_f = df.sort_values(by ='F-measure', ascending=False)\n",
    "\n",
    "display_side_by_side(sorted_acc[['Method', 'Accuracy']],\n",
    "                     sorted_f[['Method', 'F-measure']], \n",
    "                     titles=['Sorted by Accuracy','Sorted by F-Measure'])\n"
   ]
  },
  {
   "cell_type": "markdown",
   "id": "c63d9824",
   "metadata": {
    "hidden": true
   },
   "source": [
    "Once again, contrary to the initial belief, the best results were obtained with the *Support Vector Machine* after resampling, with the best result obtained with an LSTM being in second and third places for accuracy and f-measure respectivly,  once more is interesting to note that the difference is smaller then one percent.\n",
    "\n",
    "Bellow its possible to better see the precision in each model:"
   ]
  },
  {
   "cell_type": "code",
   "execution_count": 120,
   "id": "fa7f347b",
   "metadata": {
    "hidden": true
   },
   "outputs": [
    {
     "data": {
      "image/png": "[encoded data removed]",
      "text/plain": [
       "<Figure size 1440x360 with 1 Axes>"
      ]
     },
     "metadata": {
      "needs_background": "light"
     },
     "output_type": "display_data"
    }
   ],
   "source": [
    "df.plot(x ='Method', color='tab:blue', y='Accuracy', kind = 'bar')\n",
    "plt.title('Accuracy by Method', fontsize=22)\n",
    "\n",
    "plt.ylim(0.8, 1.005)\n",
    "\n",
    "plt.show()"
   ]
  },
  {
   "cell_type": "code",
   "execution_count": 119,
   "id": "2edcee39",
   "metadata": {
    "hidden": true
   },
   "outputs": [
    {
     "data": {
      "image/png": "[encoded data removed]",
      "text/plain": [
       "<Figure size 1440x360 with 1 Axes>"
      ]
     },
     "metadata": {
      "needs_background": "light"
     },
     "output_type": "display_data"
    }
   ],
   "source": [
    "df.plot(x ='Method', color='tab:red', y='F-measure', kind = 'bar')\n",
    "plt.title('F-Measure by Method', fontsize=22)\n",
    "\n",
    "plt.ylim(0.8, 1.005)\n",
    "plt.show()"
   ]
  },
  {
   "cell_type": "markdown",
   "id": "e860f1a7",
   "metadata": {
    "hidden": true
   },
   "source": [
    "### Final Conclusions\n",
    "\n",
    "After comparing all the methods using multiple metrics with cross-validation we can conclude that generally the *Support Vector Machine Classifier* is the most indicated algorithm for the given task. Although if the for the application prioritizes not marking legitimate e-mail as spam, *Complement Naive Bayes* might be more indicated, simmilarly, if the main worry is marking the most spam the *Random Forrest\tClassificator* might be better."
   ]
  }
 ],
 "metadata": {
  "kernelspec": {
   "display_name": "Python 3 (ipykernel)",
   "language": "python",
   "name": "python3"
  },
  "language_info": {
   "codemirror_mode": {
    "name": "ipython",
    "version": 3
   },
   "file_extension": ".py",
   "mimetype": "text/x-python",
   "name": "python",
   "nbconvert_exporter": "python",
   "pygments_lexer": "ipython3",
   "version": "3.7.9"
  }
 },
 "nbformat": 4,
 "nbformat_minor": 5
}
