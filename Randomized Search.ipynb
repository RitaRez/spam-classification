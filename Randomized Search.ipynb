{
 "cells": [
  {
   "cell_type": "code",
   "execution_count": 1,
   "id": "155898e0",
   "metadata": {},
   "outputs": [],
   "source": [
    "import pandas as pd\n",
    "import seaborn as sns\n",
    "\n",
    "from sklearn.utils import resample\n",
    "from sklearn.model_selection import train_test_split\n",
    "from sklearn.feature_extraction.text import TfidfVectorizer\n",
    "from sklearn.naive_bayes import MultinomialNB, ComplementNB\n",
    "from sklearn.ensemble import RandomForestClassifier \n",
    "from sklearn.model_selection import RandomizedSearchCV\n",
    "\n",
    "from sklearn.metrics import f1_score, confusion_matrix, accuracy_score, classification_report"
   ]
  },
  {
   "cell_type": "code",
   "execution_count": 6,
   "id": "7bcfdac6",
   "metadata": {},
   "outputs": [],
   "source": [
    "df = pd.read_csv(\"./data/preprocessed_spam_ham.csv\")\n",
    "\n",
    "df_spam = df[df['label']=='spam']\n",
    "df_ham = df[df['label']=='ham']\n",
    "\n",
    "\n",
    "df_ham_downsampled = resample(df_ham, replace=False, n_samples=len(df_spam), random_state=42)\n",
    "resampled_df = pd.concat([df_ham_downsampled, df_spam])\n",
    "\n",
    "x = resampled_df['text'].to_list()\n",
    "y = resampled_df['label_num']\n",
    "\n",
    "vectorizer = TfidfVectorizer()\n",
    "x_transformed = vectorizer.fit_transform(x) "
   ]
  },
  {
   "cell_type": "code",
   "execution_count": 14,
   "id": "d90639cb",
   "metadata": {},
   "outputs": [],
   "source": [
    "cl = RandomForestClassifier()\n",
    "hp = {\n",
    "    'criterion': (\"gini\", \"entropy\"), \n",
    "    'max_depth': [1, 3, 5, 10, 20],\n",
    "    'min_samples_split': [20, 40, 200, 1000],\n",
    "    'min_samples_leaf': [10, 20, 100, 500]\n",
    "}\n",
    "clf = RandomizedSearchCV(cl, hp)\n",
    "search = clf.fit(x_transformed, y)"
   ]
  },
  {
   "cell_type": "code",
   "execution_count": 16,
   "id": "a0671306",
   "metadata": {},
   "outputs": [
    {
     "data": {
      "text/plain": [
       "{'min_samples_split': 40,\n",
       " 'min_samples_leaf': 20,\n",
       " 'max_depth': 10,\n",
       " 'criterion': 'entropy'}"
      ]
     },
     "execution_count": 16,
     "metadata": {},
     "output_type": "execute_result"
    }
   ],
   "source": [
    "search.best_params_"
   ]
  },
  {
   "cell_type": "code",
   "execution_count": null,
   "id": "95f538d1",
   "metadata": {},
   "outputs": [],
   "source": [
    "search.best_score_"
   ]
  }
 ],
 "metadata": {
  "kernelspec": {
   "display_name": "Python 3 (ipykernel)",
   "language": "python",
   "name": "python3"
  },
  "language_info": {
   "codemirror_mode": {
    "name": "ipython",
    "version": 3
   },
   "file_extension": ".py",
   "mimetype": "text/x-python",
   "name": "python",
   "nbconvert_exporter": "python",
   "pygments_lexer": "ipython3",
   "version": "3.7.9"
  }
 },
 "nbformat": 4,
 "nbformat_minor": 5
}
